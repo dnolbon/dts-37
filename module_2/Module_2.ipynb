{
 "cells": [
  {
   "cell_type": "markdown",
   "source": [
    "# Итоговое задание Юнит 2\n",
    "\n",
    "Суть проекта — отследить влияние условий жизни учащихся в возрасте от 15 до 22 лет на их успеваемость по математике,\n",
    "чтобы на ранней стадии выявлять студентов, находящихся в группе риска.\n",
    "\n",
    "Задачи проекта:\n",
    "1) Провести первичную обработку данных.\n",
    "2) Посмотреть на распределение признака для числовых переменных, устраните выбросы.\n",
    "3) Оценить количество уникальных значений для номинативных переменных.\n",
    "4) По необходимости преобразовать данные\n",
    "5) Провесьт корреляционный анализ количественных переменных\n",
    "6) Отобрать не коррелирующие переменные.\n",
    "7) Проанализировать номинативные переменные и устранить те, которые не влияют на предсказываемую величину\n",
    "(в нашем случае — на переменную score).\n",
    "8) Сформулировать выводы.\n"
   ],
   "metadata": {
    "collapsed": false
   }
  },
  {
   "cell_type": "code",
   "execution_count": 528,
   "metadata": {
    "collapsed": true
   },
   "outputs": [],
   "source": [
    "import pandas as pd\n",
    "import numpy as np\n",
    "import matplotlib.pyplot as plt\n",
    "import seaborn as sns\n",
    "from itertools import combinations\n",
    "from scipy.stats import ttest_ind\n",
    "from IPython.display import display\n",
    "\n",
    "pd.set_option('display.max_rows', 50) # показывать больше строк\n",
    "pd.set_option('display.max_columns', 50) # показывать больше колонок\n",
    "\n",
    "stud = pd.read_csv('stud_math.csv')"
   ]
  },
  {
   "cell_type": "code",
   "execution_count": 529,
   "outputs": [],
   "source": [
    "def object_col_info(col):\n",
    "    display(pd.DataFrame(stud[col].value_counts()))\n",
    "    # display(\"Значений, встретившихся в столбце более 10 раз:\"\n",
    "    #       , (stud[col].value_counts()>10).sum())\n",
    "    stud.loc[:, [col]].info()\n",
    "\n",
    "def number_col_info(col):\n",
    "    stud[col].hist()\n",
    "    display(stud[col].describe())\n",
    "\n",
    "def check_emission(col):\n",
    "    perc25 = stud[col].quantile(0.25)\n",
    "    perc75 = stud[col].quantile(0.75)\n",
    "    IQR = perc75 - perc25\n",
    "\n",
    "    print(\n",
    "    'Колонка', col,\n",
    "    '25-й перцентиль: {},'.format(perc25),\n",
    "    '75-й перцентиль: {},'.format(perc75),\n",
    "    \"IQR: {}, \".format(IQR),\n",
    "    \"Границы выбросов: [{f}, {l}].\".format(f=perc25 - 1.5*IQR, l=perc75 + 1.5*IQR)\n",
    "    )\n",
    "    emission = len(stud[col]) - len(stud.loc[stud[col].between(\n",
    "    perc25 - 1.5*IQR,\n",
    "    perc75 + 1.5*IQR)])\n",
    "    # print(emission)\n",
    "    if emission > 0:\n",
    "        print ('Выбросы присутствуют -', emission)\n",
    "    else:\n",
    "        print ('Выбросы отсутствуют')\n",
    "\n",
    "def clear_emission(col):\n",
    "    perc25 = stud[col].quantile(0.25)\n",
    "    perc75 = stud[col].quantile(0.75)\n",
    "    IQR = perc75 - perc25\n",
    "\n",
    "    return stud.loc[stud[col].between(\n",
    "    perc25 - 1.5*IQR,\n",
    "    perc75 + 1.5*IQR)]\n",
    "\n",
    "def fill_empty(col, value):\n",
    "    return stud[col].apply(lambda x: value if pd.isnull(x) else value if str(x).strip() == '' else x )\n",
    "\n",
    "def fill_empty_most_popular(col):\n",
    "    return fill_empty(col, stud[col].value_counts().index.tolist()[0])\n",
    "\n",
    "def fill_empty_median(col):\n",
    "    return fill_empty(col, stud[col].median())\n",
    "\n",
    "def get_boxplot(column):\n",
    "    fig, ax = plt.subplots(figsize = (14, 4))\n",
    "    sns.boxplot(x=column, y='score',\n",
    "                data=stud.loc[stud.loc[:, column].isin(stud.loc[:, column].value_counts().index[:10])],\n",
    "               ax=ax)\n",
    "\n",
    "def get_stat_dif(column):\n",
    "    cols = stud.loc[:, column].value_counts().index[:10]\n",
    "    combinations_all = list(combinations(cols, 2))\n",
    "\n",
    "    for comb in combinations_all:\n",
    "\n",
    "        if ttest_ind(stud.loc[stud.loc[:, column] == comb[0], 'score'],\n",
    "                        stud.loc[stud.loc[:, column] == comb[1], 'score']).pvalue \\\n",
    "            <= 0.05/len(combinations_all):\n",
    "            print('Найдены статистически значимые различия для колонки', column)\n",
    "            break"
   ],
   "metadata": {
    "collapsed": false,
    "pycharm": {
     "name": "#%%\n"
    }
   }
  },
  {
   "cell_type": "code",
   "execution_count": 530,
   "outputs": [],
   "source": [
    "# приведем все колонки к одному формату\n",
    "stud.columns = [x.lower() for x in stud.columns ]"
   ],
   "metadata": {
    "collapsed": false,
    "pycharm": {
     "name": "#%%\n"
    }
   }
  },
  {
   "cell_type": "markdown",
   "source": [
    "Первичный анализ говорит нам, что в датасете присутсвуют 395 записей и 30 столбцов.\n",
    "13 столбцов содержат количественные данные, а 17 - номинативные.\n",
    "Данные по столбцам заполнены полностью, либо с потерей не значительной части данных.\n",
    "Максимальное отсутсвие 45 из 395."
   ],
   "metadata": {
    "collapsed": false,
    "pycharm": {
     "name": "#%% md\n"
    }
   }
  },
  {
   "cell_type": "code",
   "execution_count": 531,
   "outputs": [
    {
     "data": {
      "text/plain": "  school sex  age address famsize pstatus  medu  fedu      mjob     fjob  \\\n0     GP   F   18       U     NaN       A   4.0   4.0   at_home  teacher   \n1     GP   F   17       U     GT3     NaN   1.0   1.0   at_home    other   \n2     GP   F   15       U     LE3       T   1.0   1.0   at_home    other   \n3     GP   F   15       U     GT3       T   4.0   2.0    health      NaN   \n4     GP   F   16       U     GT3       T   3.0   3.0     other    other   \n5     GP   M   16       U     LE3       T   4.0   3.0  services    other   \n6     GP   M   16     NaN     LE3       T   2.0   2.0     other    other   \n7     GP   F   17       U     GT3       A   4.0   4.0     other  teacher   \n8     GP   M   15       U     LE3       A   3.0   2.0  services    other   \n9     GP   M   15       U     NaN     NaN   3.0   4.0     other    other   \n\n       reason guardian  traveltime  studytime  failures schoolsup famsup paid  \\\n0      course   mother         2.0        2.0       0.0       yes     no   no   \n1      course   father         1.0        2.0       0.0        no    yes   no   \n2       other   mother         1.0        2.0       3.0       yes     no  NaN   \n3        home   mother         1.0        3.0       0.0        no    yes  yes   \n4        home   father         1.0        2.0       0.0        no    yes  yes   \n5  reputation   mother         1.0        2.0       0.0        no    yes  yes   \n6        home   mother         1.0        2.0       0.0        no     no   no   \n7        home   mother         2.0        2.0       0.0       yes    yes   no   \n8        home   mother         1.0        2.0       0.0        no    yes  yes   \n9        home   mother         1.0        2.0       0.0        no    yes  yes   \n\n  activities nursery  studytime, granular higher internet romantic  famrel  \\\n0         no     yes                 -6.0    yes      NaN       no     4.0   \n1         no      no                 -6.0    yes      yes       no     5.0   \n2         no     yes                 -6.0    yes      yes      NaN     4.0   \n3        yes     yes                 -9.0    yes      yes      yes     3.0   \n4         no     yes                 -6.0    yes       no       no     4.0   \n5        yes     yes                 -6.0    yes      yes       no     5.0   \n6         no     yes                 -6.0    yes      yes       no     4.0   \n7         no     yes                 -6.0    yes       no       no     4.0   \n8         no     yes                 -6.0    yes      yes       no     NaN   \n9        yes     yes                 -6.0    yes      yes       no     5.0   \n\n   freetime  goout  health  absences  score  \n0       3.0    4.0     3.0       6.0   30.0  \n1       3.0    3.0     3.0       4.0   30.0  \n2       3.0    2.0     3.0      10.0   50.0  \n3       2.0    2.0     5.0       2.0   75.0  \n4       3.0    2.0     5.0       4.0   50.0  \n5       4.0    2.0     5.0      10.0   75.0  \n6       4.0    4.0     3.0       0.0   55.0  \n7       1.0    4.0     1.0       6.0   30.0  \n8       2.0    2.0     1.0       0.0   95.0  \n9       5.0    1.0     5.0       0.0   75.0  ",
      "text/html": "<div>\n<style scoped>\n    .dataframe tbody tr th:only-of-type {\n        vertical-align: middle;\n    }\n\n    .dataframe tbody tr th {\n        vertical-align: top;\n    }\n\n    .dataframe thead th {\n        text-align: right;\n    }\n</style>\n<table border=\"1\" class=\"dataframe\">\n  <thead>\n    <tr style=\"text-align: right;\">\n      <th></th>\n      <th>school</th>\n      <th>sex</th>\n      <th>age</th>\n      <th>address</th>\n      <th>famsize</th>\n      <th>pstatus</th>\n      <th>medu</th>\n      <th>fedu</th>\n      <th>mjob</th>\n      <th>fjob</th>\n      <th>reason</th>\n      <th>guardian</th>\n      <th>traveltime</th>\n      <th>studytime</th>\n      <th>failures</th>\n      <th>schoolsup</th>\n      <th>famsup</th>\n      <th>paid</th>\n      <th>activities</th>\n      <th>nursery</th>\n      <th>studytime, granular</th>\n      <th>higher</th>\n      <th>internet</th>\n      <th>romantic</th>\n      <th>famrel</th>\n      <th>freetime</th>\n      <th>goout</th>\n      <th>health</th>\n      <th>absences</th>\n      <th>score</th>\n    </tr>\n  </thead>\n  <tbody>\n    <tr>\n      <th>0</th>\n      <td>GP</td>\n      <td>F</td>\n      <td>18</td>\n      <td>U</td>\n      <td>NaN</td>\n      <td>A</td>\n      <td>4.0</td>\n      <td>4.0</td>\n      <td>at_home</td>\n      <td>teacher</td>\n      <td>course</td>\n      <td>mother</td>\n      <td>2.0</td>\n      <td>2.0</td>\n      <td>0.0</td>\n      <td>yes</td>\n      <td>no</td>\n      <td>no</td>\n      <td>no</td>\n      <td>yes</td>\n      <td>-6.0</td>\n      <td>yes</td>\n      <td>NaN</td>\n      <td>no</td>\n      <td>4.0</td>\n      <td>3.0</td>\n      <td>4.0</td>\n      <td>3.0</td>\n      <td>6.0</td>\n      <td>30.0</td>\n    </tr>\n    <tr>\n      <th>1</th>\n      <td>GP</td>\n      <td>F</td>\n      <td>17</td>\n      <td>U</td>\n      <td>GT3</td>\n      <td>NaN</td>\n      <td>1.0</td>\n      <td>1.0</td>\n      <td>at_home</td>\n      <td>other</td>\n      <td>course</td>\n      <td>father</td>\n      <td>1.0</td>\n      <td>2.0</td>\n      <td>0.0</td>\n      <td>no</td>\n      <td>yes</td>\n      <td>no</td>\n      <td>no</td>\n      <td>no</td>\n      <td>-6.0</td>\n      <td>yes</td>\n      <td>yes</td>\n      <td>no</td>\n      <td>5.0</td>\n      <td>3.0</td>\n      <td>3.0</td>\n      <td>3.0</td>\n      <td>4.0</td>\n      <td>30.0</td>\n    </tr>\n    <tr>\n      <th>2</th>\n      <td>GP</td>\n      <td>F</td>\n      <td>15</td>\n      <td>U</td>\n      <td>LE3</td>\n      <td>T</td>\n      <td>1.0</td>\n      <td>1.0</td>\n      <td>at_home</td>\n      <td>other</td>\n      <td>other</td>\n      <td>mother</td>\n      <td>1.0</td>\n      <td>2.0</td>\n      <td>3.0</td>\n      <td>yes</td>\n      <td>no</td>\n      <td>NaN</td>\n      <td>no</td>\n      <td>yes</td>\n      <td>-6.0</td>\n      <td>yes</td>\n      <td>yes</td>\n      <td>NaN</td>\n      <td>4.0</td>\n      <td>3.0</td>\n      <td>2.0</td>\n      <td>3.0</td>\n      <td>10.0</td>\n      <td>50.0</td>\n    </tr>\n    <tr>\n      <th>3</th>\n      <td>GP</td>\n      <td>F</td>\n      <td>15</td>\n      <td>U</td>\n      <td>GT3</td>\n      <td>T</td>\n      <td>4.0</td>\n      <td>2.0</td>\n      <td>health</td>\n      <td>NaN</td>\n      <td>home</td>\n      <td>mother</td>\n      <td>1.0</td>\n      <td>3.0</td>\n      <td>0.0</td>\n      <td>no</td>\n      <td>yes</td>\n      <td>yes</td>\n      <td>yes</td>\n      <td>yes</td>\n      <td>-9.0</td>\n      <td>yes</td>\n      <td>yes</td>\n      <td>yes</td>\n      <td>3.0</td>\n      <td>2.0</td>\n      <td>2.0</td>\n      <td>5.0</td>\n      <td>2.0</td>\n      <td>75.0</td>\n    </tr>\n    <tr>\n      <th>4</th>\n      <td>GP</td>\n      <td>F</td>\n      <td>16</td>\n      <td>U</td>\n      <td>GT3</td>\n      <td>T</td>\n      <td>3.0</td>\n      <td>3.0</td>\n      <td>other</td>\n      <td>other</td>\n      <td>home</td>\n      <td>father</td>\n      <td>1.0</td>\n      <td>2.0</td>\n      <td>0.0</td>\n      <td>no</td>\n      <td>yes</td>\n      <td>yes</td>\n      <td>no</td>\n      <td>yes</td>\n      <td>-6.0</td>\n      <td>yes</td>\n      <td>no</td>\n      <td>no</td>\n      <td>4.0</td>\n      <td>3.0</td>\n      <td>2.0</td>\n      <td>5.0</td>\n      <td>4.0</td>\n      <td>50.0</td>\n    </tr>\n    <tr>\n      <th>5</th>\n      <td>GP</td>\n      <td>M</td>\n      <td>16</td>\n      <td>U</td>\n      <td>LE3</td>\n      <td>T</td>\n      <td>4.0</td>\n      <td>3.0</td>\n      <td>services</td>\n      <td>other</td>\n      <td>reputation</td>\n      <td>mother</td>\n      <td>1.0</td>\n      <td>2.0</td>\n      <td>0.0</td>\n      <td>no</td>\n      <td>yes</td>\n      <td>yes</td>\n      <td>yes</td>\n      <td>yes</td>\n      <td>-6.0</td>\n      <td>yes</td>\n      <td>yes</td>\n      <td>no</td>\n      <td>5.0</td>\n      <td>4.0</td>\n      <td>2.0</td>\n      <td>5.0</td>\n      <td>10.0</td>\n      <td>75.0</td>\n    </tr>\n    <tr>\n      <th>6</th>\n      <td>GP</td>\n      <td>M</td>\n      <td>16</td>\n      <td>NaN</td>\n      <td>LE3</td>\n      <td>T</td>\n      <td>2.0</td>\n      <td>2.0</td>\n      <td>other</td>\n      <td>other</td>\n      <td>home</td>\n      <td>mother</td>\n      <td>1.0</td>\n      <td>2.0</td>\n      <td>0.0</td>\n      <td>no</td>\n      <td>no</td>\n      <td>no</td>\n      <td>no</td>\n      <td>yes</td>\n      <td>-6.0</td>\n      <td>yes</td>\n      <td>yes</td>\n      <td>no</td>\n      <td>4.0</td>\n      <td>4.0</td>\n      <td>4.0</td>\n      <td>3.0</td>\n      <td>0.0</td>\n      <td>55.0</td>\n    </tr>\n    <tr>\n      <th>7</th>\n      <td>GP</td>\n      <td>F</td>\n      <td>17</td>\n      <td>U</td>\n      <td>GT3</td>\n      <td>A</td>\n      <td>4.0</td>\n      <td>4.0</td>\n      <td>other</td>\n      <td>teacher</td>\n      <td>home</td>\n      <td>mother</td>\n      <td>2.0</td>\n      <td>2.0</td>\n      <td>0.0</td>\n      <td>yes</td>\n      <td>yes</td>\n      <td>no</td>\n      <td>no</td>\n      <td>yes</td>\n      <td>-6.0</td>\n      <td>yes</td>\n      <td>no</td>\n      <td>no</td>\n      <td>4.0</td>\n      <td>1.0</td>\n      <td>4.0</td>\n      <td>1.0</td>\n      <td>6.0</td>\n      <td>30.0</td>\n    </tr>\n    <tr>\n      <th>8</th>\n      <td>GP</td>\n      <td>M</td>\n      <td>15</td>\n      <td>U</td>\n      <td>LE3</td>\n      <td>A</td>\n      <td>3.0</td>\n      <td>2.0</td>\n      <td>services</td>\n      <td>other</td>\n      <td>home</td>\n      <td>mother</td>\n      <td>1.0</td>\n      <td>2.0</td>\n      <td>0.0</td>\n      <td>no</td>\n      <td>yes</td>\n      <td>yes</td>\n      <td>no</td>\n      <td>yes</td>\n      <td>-6.0</td>\n      <td>yes</td>\n      <td>yes</td>\n      <td>no</td>\n      <td>NaN</td>\n      <td>2.0</td>\n      <td>2.0</td>\n      <td>1.0</td>\n      <td>0.0</td>\n      <td>95.0</td>\n    </tr>\n    <tr>\n      <th>9</th>\n      <td>GP</td>\n      <td>M</td>\n      <td>15</td>\n      <td>U</td>\n      <td>NaN</td>\n      <td>NaN</td>\n      <td>3.0</td>\n      <td>4.0</td>\n      <td>other</td>\n      <td>other</td>\n      <td>home</td>\n      <td>mother</td>\n      <td>1.0</td>\n      <td>2.0</td>\n      <td>0.0</td>\n      <td>no</td>\n      <td>yes</td>\n      <td>yes</td>\n      <td>yes</td>\n      <td>yes</td>\n      <td>-6.0</td>\n      <td>yes</td>\n      <td>yes</td>\n      <td>no</td>\n      <td>5.0</td>\n      <td>5.0</td>\n      <td>1.0</td>\n      <td>5.0</td>\n      <td>0.0</td>\n      <td>75.0</td>\n    </tr>\n  </tbody>\n</table>\n</div>"
     },
     "metadata": {},
     "output_type": "display_data"
    },
    {
     "name": "stdout",
     "output_type": "stream",
     "text": [
      "<class 'pandas.core.frame.DataFrame'>\n",
      "RangeIndex: 395 entries, 0 to 394\n",
      "Data columns (total 30 columns):\n",
      " #   Column               Non-Null Count  Dtype  \n",
      "---  ------               --------------  -----  \n",
      " 0   school               395 non-null    object \n",
      " 1   sex                  395 non-null    object \n",
      " 2   age                  395 non-null    int64  \n",
      " 3   address              378 non-null    object \n",
      " 4   famsize              368 non-null    object \n",
      " 5   pstatus              350 non-null    object \n",
      " 6   medu                 392 non-null    float64\n",
      " 7   fedu                 371 non-null    float64\n",
      " 8   mjob                 376 non-null    object \n",
      " 9   fjob                 359 non-null    object \n",
      " 10  reason               378 non-null    object \n",
      " 11  guardian             364 non-null    object \n",
      " 12  traveltime           367 non-null    float64\n",
      " 13  studytime            388 non-null    float64\n",
      " 14  failures             373 non-null    float64\n",
      " 15  schoolsup            386 non-null    object \n",
      " 16  famsup               356 non-null    object \n",
      " 17  paid                 355 non-null    object \n",
      " 18  activities           381 non-null    object \n",
      " 19  nursery              379 non-null    object \n",
      " 20  studytime, granular  388 non-null    float64\n",
      " 21  higher               375 non-null    object \n",
      " 22  internet             361 non-null    object \n",
      " 23  romantic             364 non-null    object \n",
      " 24  famrel               368 non-null    float64\n",
      " 25  freetime             384 non-null    float64\n",
      " 26  goout                387 non-null    float64\n",
      " 27  health               380 non-null    float64\n",
      " 28  absences             383 non-null    float64\n",
      " 29  score                389 non-null    float64\n",
      "dtypes: float64(12), int64(1), object(17)\n",
      "memory usage: 92.7+ KB\n"
     ]
    }
   ],
   "source": [
    "display(stud.head(10))\n",
    "stud.info()\n"
   ],
   "metadata": {
    "collapsed": false,
    "pycharm": {
     "name": "#%%\n"
    }
   }
  },
  {
   "cell_type": "markdown",
   "source": [
    "Из матрицы кореляций видим, что колонка \"studytime, granular\" корелирует с остальными так же как колонка studytime,\n",
    "только с обратным знаком,\n",
    "поэтому для дальнейших условий она врядли нам будет полезна и ее можно исключить.\n"
   ],
   "metadata": {
    "collapsed": false
   }
  },
  {
   "cell_type": "code",
   "execution_count": 532,
   "outputs": [
    {
     "data": {
      "text/plain": "                          age      medu      fedu  traveltime  studytime  \\\nage                  1.000000 -0.161704 -0.138018    0.081508  -0.015556   \nmedu                -0.161704  1.000000  0.275598   -0.173515   0.078589   \nfedu                -0.138018  0.275598  1.000000    0.030646   0.057199   \ntraveltime           0.081508 -0.173515  0.030646    1.000000  -0.102206   \nstudytime           -0.015556  0.078589  0.057199   -0.102206   1.000000   \nfailures             0.228047 -0.245463 -0.150821    0.064699  -0.178992   \nstudytime, granular  0.015556 -0.078589 -0.057199    0.102206  -1.000000   \nfamrel               0.068899 -0.010050  0.040577   -0.016857   0.045894   \nfreetime             0.029023  0.025335 -0.066556   -0.021937  -0.121969   \ngoout                0.135107  0.064164 -0.023282    0.037636  -0.051280   \nhealth              -0.065946 -0.045051  0.027251   -0.021531  -0.080016   \nabsences             0.093592 -0.011944  0.004695   -0.048215  -0.026544   \nscore               -0.155726  0.213349  0.078573   -0.070559   0.115741   \n\n                     failures  studytime, granular    famrel  freetime  \\\nage                  0.228047             0.015556  0.068899  0.029023   \nmedu                -0.245463            -0.078589 -0.010050  0.025335   \nfedu                -0.150821            -0.057199  0.040577 -0.066556   \ntraveltime           0.064699             0.102206 -0.016857 -0.021937   \nstudytime           -0.178992            -1.000000  0.045894 -0.121969   \nfailures             1.000000             0.178992 -0.022655  0.098382   \nstudytime, granular  0.178992             1.000000 -0.045894  0.121969   \nfamrel              -0.022655            -0.045894  1.000000  0.175743   \nfreetime             0.098382             0.121969  0.175743  1.000000   \ngoout                0.120914             0.051280  0.081154  0.296437   \nhealth               0.081284             0.080016  0.077474  0.061575   \nabsences             0.057391             0.026544 -0.082609  0.009292   \nscore               -0.344338            -0.115741  0.057112  0.019026   \n\n                        goout    health  absences     score  \nage                  0.135107 -0.065946  0.093592 -0.155726  \nmedu                 0.064164 -0.045051 -0.011944  0.213349  \nfedu                -0.023282  0.027251  0.004695  0.078573  \ntraveltime           0.037636 -0.021531 -0.048215 -0.070559  \nstudytime           -0.051280 -0.080016 -0.026544  0.115741  \nfailures             0.120914  0.081284  0.057391 -0.344338  \nstudytime, granular  0.051280  0.080016  0.026544 -0.115741  \nfamrel               0.081154  0.077474 -0.082609  0.057112  \nfreetime             0.296437  0.061575  0.009292  0.019026  \ngoout                1.000000 -0.015608 -0.048738 -0.129685  \nhealth              -0.015608  1.000000 -0.016222 -0.070460  \nabsences            -0.048738 -0.016222  1.000000  0.065283  \nscore               -0.129685 -0.070460  0.065283  1.000000  ",
      "text/html": "<div>\n<style scoped>\n    .dataframe tbody tr th:only-of-type {\n        vertical-align: middle;\n    }\n\n    .dataframe tbody tr th {\n        vertical-align: top;\n    }\n\n    .dataframe thead th {\n        text-align: right;\n    }\n</style>\n<table border=\"1\" class=\"dataframe\">\n  <thead>\n    <tr style=\"text-align: right;\">\n      <th></th>\n      <th>age</th>\n      <th>medu</th>\n      <th>fedu</th>\n      <th>traveltime</th>\n      <th>studytime</th>\n      <th>failures</th>\n      <th>studytime, granular</th>\n      <th>famrel</th>\n      <th>freetime</th>\n      <th>goout</th>\n      <th>health</th>\n      <th>absences</th>\n      <th>score</th>\n    </tr>\n  </thead>\n  <tbody>\n    <tr>\n      <th>age</th>\n      <td>1.000000</td>\n      <td>-0.161704</td>\n      <td>-0.138018</td>\n      <td>0.081508</td>\n      <td>-0.015556</td>\n      <td>0.228047</td>\n      <td>0.015556</td>\n      <td>0.068899</td>\n      <td>0.029023</td>\n      <td>0.135107</td>\n      <td>-0.065946</td>\n      <td>0.093592</td>\n      <td>-0.155726</td>\n    </tr>\n    <tr>\n      <th>medu</th>\n      <td>-0.161704</td>\n      <td>1.000000</td>\n      <td>0.275598</td>\n      <td>-0.173515</td>\n      <td>0.078589</td>\n      <td>-0.245463</td>\n      <td>-0.078589</td>\n      <td>-0.010050</td>\n      <td>0.025335</td>\n      <td>0.064164</td>\n      <td>-0.045051</td>\n      <td>-0.011944</td>\n      <td>0.213349</td>\n    </tr>\n    <tr>\n      <th>fedu</th>\n      <td>-0.138018</td>\n      <td>0.275598</td>\n      <td>1.000000</td>\n      <td>0.030646</td>\n      <td>0.057199</td>\n      <td>-0.150821</td>\n      <td>-0.057199</td>\n      <td>0.040577</td>\n      <td>-0.066556</td>\n      <td>-0.023282</td>\n      <td>0.027251</td>\n      <td>0.004695</td>\n      <td>0.078573</td>\n    </tr>\n    <tr>\n      <th>traveltime</th>\n      <td>0.081508</td>\n      <td>-0.173515</td>\n      <td>0.030646</td>\n      <td>1.000000</td>\n      <td>-0.102206</td>\n      <td>0.064699</td>\n      <td>0.102206</td>\n      <td>-0.016857</td>\n      <td>-0.021937</td>\n      <td>0.037636</td>\n      <td>-0.021531</td>\n      <td>-0.048215</td>\n      <td>-0.070559</td>\n    </tr>\n    <tr>\n      <th>studytime</th>\n      <td>-0.015556</td>\n      <td>0.078589</td>\n      <td>0.057199</td>\n      <td>-0.102206</td>\n      <td>1.000000</td>\n      <td>-0.178992</td>\n      <td>-1.000000</td>\n      <td>0.045894</td>\n      <td>-0.121969</td>\n      <td>-0.051280</td>\n      <td>-0.080016</td>\n      <td>-0.026544</td>\n      <td>0.115741</td>\n    </tr>\n    <tr>\n      <th>failures</th>\n      <td>0.228047</td>\n      <td>-0.245463</td>\n      <td>-0.150821</td>\n      <td>0.064699</td>\n      <td>-0.178992</td>\n      <td>1.000000</td>\n      <td>0.178992</td>\n      <td>-0.022655</td>\n      <td>0.098382</td>\n      <td>0.120914</td>\n      <td>0.081284</td>\n      <td>0.057391</td>\n      <td>-0.344338</td>\n    </tr>\n    <tr>\n      <th>studytime, granular</th>\n      <td>0.015556</td>\n      <td>-0.078589</td>\n      <td>-0.057199</td>\n      <td>0.102206</td>\n      <td>-1.000000</td>\n      <td>0.178992</td>\n      <td>1.000000</td>\n      <td>-0.045894</td>\n      <td>0.121969</td>\n      <td>0.051280</td>\n      <td>0.080016</td>\n      <td>0.026544</td>\n      <td>-0.115741</td>\n    </tr>\n    <tr>\n      <th>famrel</th>\n      <td>0.068899</td>\n      <td>-0.010050</td>\n      <td>0.040577</td>\n      <td>-0.016857</td>\n      <td>0.045894</td>\n      <td>-0.022655</td>\n      <td>-0.045894</td>\n      <td>1.000000</td>\n      <td>0.175743</td>\n      <td>0.081154</td>\n      <td>0.077474</td>\n      <td>-0.082609</td>\n      <td>0.057112</td>\n    </tr>\n    <tr>\n      <th>freetime</th>\n      <td>0.029023</td>\n      <td>0.025335</td>\n      <td>-0.066556</td>\n      <td>-0.021937</td>\n      <td>-0.121969</td>\n      <td>0.098382</td>\n      <td>0.121969</td>\n      <td>0.175743</td>\n      <td>1.000000</td>\n      <td>0.296437</td>\n      <td>0.061575</td>\n      <td>0.009292</td>\n      <td>0.019026</td>\n    </tr>\n    <tr>\n      <th>goout</th>\n      <td>0.135107</td>\n      <td>0.064164</td>\n      <td>-0.023282</td>\n      <td>0.037636</td>\n      <td>-0.051280</td>\n      <td>0.120914</td>\n      <td>0.051280</td>\n      <td>0.081154</td>\n      <td>0.296437</td>\n      <td>1.000000</td>\n      <td>-0.015608</td>\n      <td>-0.048738</td>\n      <td>-0.129685</td>\n    </tr>\n    <tr>\n      <th>health</th>\n      <td>-0.065946</td>\n      <td>-0.045051</td>\n      <td>0.027251</td>\n      <td>-0.021531</td>\n      <td>-0.080016</td>\n      <td>0.081284</td>\n      <td>0.080016</td>\n      <td>0.077474</td>\n      <td>0.061575</td>\n      <td>-0.015608</td>\n      <td>1.000000</td>\n      <td>-0.016222</td>\n      <td>-0.070460</td>\n    </tr>\n    <tr>\n      <th>absences</th>\n      <td>0.093592</td>\n      <td>-0.011944</td>\n      <td>0.004695</td>\n      <td>-0.048215</td>\n      <td>-0.026544</td>\n      <td>0.057391</td>\n      <td>0.026544</td>\n      <td>-0.082609</td>\n      <td>0.009292</td>\n      <td>-0.048738</td>\n      <td>-0.016222</td>\n      <td>1.000000</td>\n      <td>0.065283</td>\n    </tr>\n    <tr>\n      <th>score</th>\n      <td>-0.155726</td>\n      <td>0.213349</td>\n      <td>0.078573</td>\n      <td>-0.070559</td>\n      <td>0.115741</td>\n      <td>-0.344338</td>\n      <td>-0.115741</td>\n      <td>0.057112</td>\n      <td>0.019026</td>\n      <td>-0.129685</td>\n      <td>-0.070460</td>\n      <td>0.065283</td>\n      <td>1.000000</td>\n    </tr>\n  </tbody>\n</table>\n</div>"
     },
     "execution_count": 532,
     "metadata": {},
     "output_type": "execute_result"
    }
   ],
   "source": [
    "stud.corr()"
   ],
   "metadata": {
    "collapsed": false,
    "pycharm": {
     "name": "#%%\n"
    }
   }
  },
  {
   "cell_type": "code",
   "execution_count": 533,
   "outputs": [],
   "source": [
    "stud.drop(['studytime, granular'], inplace = True, axis = 1)"
   ],
   "metadata": {
    "collapsed": false,
    "pycharm": {
     "name": "#%%\n"
    }
   }
  },
  {
   "cell_type": "markdown",
   "source": [
    "## Анализ данных"
   ],
   "metadata": {
    "collapsed": false,
    "pycharm": {
     "name": "#%% md\n"
    }
   }
  },
  {
   "cell_type": "markdown",
   "source": [
    "### school — аббревиатура школы, в которой учится ученик\n",
    "\n",
    "Пропуски отсутствуют, в датасете представленны данные всего 2ух школ"
   ],
   "metadata": {
    "collapsed": false,
    "pycharm": {
     "name": "#%% md\n"
    }
   }
  },
  {
   "cell_type": "code",
   "execution_count": 534,
   "outputs": [
    {
     "data": {
      "text/plain": "    school\nGP     349\nMS      46",
      "text/html": "<div>\n<style scoped>\n    .dataframe tbody tr th:only-of-type {\n        vertical-align: middle;\n    }\n\n    .dataframe tbody tr th {\n        vertical-align: top;\n    }\n\n    .dataframe thead th {\n        text-align: right;\n    }\n</style>\n<table border=\"1\" class=\"dataframe\">\n  <thead>\n    <tr style=\"text-align: right;\">\n      <th></th>\n      <th>school</th>\n    </tr>\n  </thead>\n  <tbody>\n    <tr>\n      <th>GP</th>\n      <td>349</td>\n    </tr>\n    <tr>\n      <th>MS</th>\n      <td>46</td>\n    </tr>\n  </tbody>\n</table>\n</div>"
     },
     "metadata": {},
     "output_type": "display_data"
    },
    {
     "name": "stdout",
     "output_type": "stream",
     "text": [
      "<class 'pandas.core.frame.DataFrame'>\n",
      "RangeIndex: 395 entries, 0 to 394\n",
      "Data columns (total 1 columns):\n",
      " #   Column  Non-Null Count  Dtype \n",
      "---  ------  --------------  ----- \n",
      " 0   school  395 non-null    object\n",
      "dtypes: object(1)\n",
      "memory usage: 3.2+ KB\n"
     ]
    }
   ],
   "source": [
    "object_col_info('school')"
   ],
   "metadata": {
    "collapsed": false,
    "pycharm": {
     "name": "#%%\n"
    }
   }
  },
  {
   "cell_type": "markdown",
   "source": [
    "### sex — пол ученика ('F' - женский, 'M' - мужской)\n",
    "\n",
    "Пропуски отсутствуют, женщины и мужчины в выборке распределенны примерно 50 на 50"
   ],
   "metadata": {
    "collapsed": false,
    "pycharm": {
     "name": "#%% md\n"
    }
   }
  },
  {
   "cell_type": "code",
   "execution_count": 535,
   "outputs": [
    {
     "data": {
      "text/plain": "   sex\nF  208\nM  187",
      "text/html": "<div>\n<style scoped>\n    .dataframe tbody tr th:only-of-type {\n        vertical-align: middle;\n    }\n\n    .dataframe tbody tr th {\n        vertical-align: top;\n    }\n\n    .dataframe thead th {\n        text-align: right;\n    }\n</style>\n<table border=\"1\" class=\"dataframe\">\n  <thead>\n    <tr style=\"text-align: right;\">\n      <th></th>\n      <th>sex</th>\n    </tr>\n  </thead>\n  <tbody>\n    <tr>\n      <th>F</th>\n      <td>208</td>\n    </tr>\n    <tr>\n      <th>M</th>\n      <td>187</td>\n    </tr>\n  </tbody>\n</table>\n</div>"
     },
     "metadata": {},
     "output_type": "display_data"
    },
    {
     "name": "stdout",
     "output_type": "stream",
     "text": [
      "<class 'pandas.core.frame.DataFrame'>\n",
      "RangeIndex: 395 entries, 0 to 394\n",
      "Data columns (total 1 columns):\n",
      " #   Column  Non-Null Count  Dtype \n",
      "---  ------  --------------  ----- \n",
      " 0   sex     395 non-null    object\n",
      "dtypes: object(1)\n",
      "memory usage: 3.2+ KB\n"
     ]
    }
   ],
   "source": [
    "object_col_info('sex')"
   ],
   "metadata": {
    "collapsed": false,
    "pycharm": {
     "name": "#%%\n"
    }
   }
  },
  {
   "cell_type": "markdown",
   "source": [
    "### age — возраст ученика (от 15 до 22)\n",
    "\n",
    "Пропуски отсутсвуют, большинство учеников в возрасте от 16 до 18 лет."
   ],
   "metadata": {
    "collapsed": false,
    "pycharm": {
     "name": "#%% md\n"
    }
   }
  },
  {
   "cell_type": "code",
   "execution_count": 536,
   "outputs": [
    {
     "data": {
      "text/plain": "count    395.000000\nmean      16.696203\nstd        1.276043\nmin       15.000000\n25%       16.000000\n50%       17.000000\n75%       18.000000\nmax       22.000000\nName: age, dtype: float64"
     },
     "metadata": {},
     "output_type": "display_data"
    },
    {
     "data": {
      "text/plain": "<Figure size 432x288 with 1 Axes>",
      "image/png": "[encoded data removed]"
     },
     "metadata": {
      "needs_background": "light"
     },
     "output_type": "display_data"
    }
   ],
   "source": [
    "number_col_info('age')"
   ],
   "metadata": {
    "collapsed": false,
    "pycharm": {
     "name": "#%%\n"
    }
   }
  },
  {
   "cell_type": "markdown",
   "source": [
    "В датасете присутствует выброс - ученик с возрастом 22 год.\n",
    "Устраним выброс."
   ],
   "metadata": {
    "collapsed": false,
    "pycharm": {
     "name": "#%% md\n"
    }
   }
  },
  {
   "cell_type": "code",
   "execution_count": 537,
   "outputs": [
    {
     "name": "stdout",
     "output_type": "stream",
     "text": [
      "Колонка age 25-й перцентиль: 16.0, 75-й перцентиль: 18.0, IQR: 2.0,  Границы выбросов: [13.0, 21.0].\n",
      "Выбросы присутствуют - 1\n"
     ]
    }
   ],
   "source": [
    "check_emission('age')\n",
    "stud = clear_emission('age')"
   ],
   "metadata": {
    "collapsed": false,
    "pycharm": {
     "name": "#%%\n"
    }
   }
  },
  {
   "cell_type": "markdown",
   "source": [
    "### address — тип адреса ученика ('U' - городской, 'R' - за городом)\n",
    "\n",
    "В датасете присутствует 17 пропусков, из остальных данных видим, что преобладают ученики живущие за городом.\n",
    "На данном этапе заполним пропуски самым частым значением."
   ],
   "metadata": {
    "collapsed": false,
    "pycharm": {
     "name": "#%% md\n"
    }
   }
  },
  {
   "cell_type": "code",
   "execution_count": 538,
   "outputs": [
    {
     "data": {
      "text/plain": "   address\nU      311\nR       83",
      "text/html": "<div>\n<style scoped>\n    .dataframe tbody tr th:only-of-type {\n        vertical-align: middle;\n    }\n\n    .dataframe tbody tr th {\n        vertical-align: top;\n    }\n\n    .dataframe thead th {\n        text-align: right;\n    }\n</style>\n<table border=\"1\" class=\"dataframe\">\n  <thead>\n    <tr style=\"text-align: right;\">\n      <th></th>\n      <th>address</th>\n    </tr>\n  </thead>\n  <tbody>\n    <tr>\n      <th>U</th>\n      <td>311</td>\n    </tr>\n    <tr>\n      <th>R</th>\n      <td>83</td>\n    </tr>\n  </tbody>\n</table>\n</div>"
     },
     "metadata": {},
     "output_type": "display_data"
    },
    {
     "name": "stdout",
     "output_type": "stream",
     "text": [
      "<class 'pandas.core.frame.DataFrame'>\n",
      "Int64Index: 394 entries, 0 to 394\n",
      "Data columns (total 1 columns):\n",
      " #   Column   Non-Null Count  Dtype \n",
      "---  ------   --------------  ----- \n",
      " 0   address  394 non-null    object\n",
      "dtypes: object(1)\n",
      "memory usage: 6.2+ KB\n"
     ]
    }
   ],
   "source": [
    "stud['address'] = fill_empty_most_popular('address')\n",
    "object_col_info('address')"
   ],
   "metadata": {
    "collapsed": false,
    "pycharm": {
     "name": "#%%\n"
    }
   }
  },
  {
   "cell_type": "markdown",
   "source": [
    "### famsize — размер семьи('LE3' <= 3, 'GT3' >3)\n",
    "\n",
    "В датасете присутствует 17 пропусков, из остальных данных видим, что преобладают ученики из многодетных семей.\n",
    "На данном этапе заполним пропуски самым частым значением."
   ],
   "metadata": {
    "collapsed": false,
    "pycharm": {
     "name": "#%% md\n"
    }
   }
  },
  {
   "cell_type": "code",
   "execution_count": 539,
   "outputs": [
    {
     "data": {
      "text/plain": "     famsize\nGT3      287\nLE3      107",
      "text/html": "<div>\n<style scoped>\n    .dataframe tbody tr th:only-of-type {\n        vertical-align: middle;\n    }\n\n    .dataframe tbody tr th {\n        vertical-align: top;\n    }\n\n    .dataframe thead th {\n        text-align: right;\n    }\n</style>\n<table border=\"1\" class=\"dataframe\">\n  <thead>\n    <tr style=\"text-align: right;\">\n      <th></th>\n      <th>famsize</th>\n    </tr>\n  </thead>\n  <tbody>\n    <tr>\n      <th>GT3</th>\n      <td>287</td>\n    </tr>\n    <tr>\n      <th>LE3</th>\n      <td>107</td>\n    </tr>\n  </tbody>\n</table>\n</div>"
     },
     "metadata": {},
     "output_type": "display_data"
    },
    {
     "name": "stdout",
     "output_type": "stream",
     "text": [
      "<class 'pandas.core.frame.DataFrame'>\n",
      "Int64Index: 394 entries, 0 to 394\n",
      "Data columns (total 1 columns):\n",
      " #   Column   Non-Null Count  Dtype \n",
      "---  ------   --------------  ----- \n",
      " 0   famsize  394 non-null    object\n",
      "dtypes: object(1)\n",
      "memory usage: 6.2+ KB\n"
     ]
    }
   ],
   "source": [
    "stud['famsize'] = fill_empty_most_popular('famsize')\n",
    "object_col_info('famsize')"
   ],
   "metadata": {
    "collapsed": false,
    "pycharm": {
     "name": "#%%\n"
    }
   }
  },
  {
   "cell_type": "markdown",
   "source": [
    "### pstatus — статус совместного жилья родителей ('T' - живут вместе 'A' - раздельно)\n",
    "\n",
    "В датасете присутствует 45 пропусков, из остальных данных видим, что преобладают ученики у которых родители живут вместе.\n",
    "На данном этапе заполним пропуски самым частым значением."
   ],
   "metadata": {
    "collapsed": false,
    "pycharm": {
     "name": "#%% md\n"
    }
   }
  },
  {
   "cell_type": "code",
   "execution_count": 540,
   "outputs": [
    {
     "data": {
      "text/plain": "   pstatus\nT      358\nA       36",
      "text/html": "<div>\n<style scoped>\n    .dataframe tbody tr th:only-of-type {\n        vertical-align: middle;\n    }\n\n    .dataframe tbody tr th {\n        vertical-align: top;\n    }\n\n    .dataframe thead th {\n        text-align: right;\n    }\n</style>\n<table border=\"1\" class=\"dataframe\">\n  <thead>\n    <tr style=\"text-align: right;\">\n      <th></th>\n      <th>pstatus</th>\n    </tr>\n  </thead>\n  <tbody>\n    <tr>\n      <th>T</th>\n      <td>358</td>\n    </tr>\n    <tr>\n      <th>A</th>\n      <td>36</td>\n    </tr>\n  </tbody>\n</table>\n</div>"
     },
     "metadata": {},
     "output_type": "display_data"
    },
    {
     "name": "stdout",
     "output_type": "stream",
     "text": [
      "<class 'pandas.core.frame.DataFrame'>\n",
      "Int64Index: 394 entries, 0 to 394\n",
      "Data columns (total 1 columns):\n",
      " #   Column   Non-Null Count  Dtype \n",
      "---  ------   --------------  ----- \n",
      " 0   pstatus  394 non-null    object\n",
      "dtypes: object(1)\n",
      "memory usage: 6.2+ KB\n"
     ]
    }
   ],
   "source": [
    "stud['pstatus'] = fill_empty_most_popular('pstatus')\n",
    "object_col_info('pstatus')"
   ],
   "metadata": {
    "collapsed": false,
    "pycharm": {
     "name": "#%%\n"
    }
   }
  },
  {
   "cell_type": "markdown",
   "source": [
    "### medu — образование матери (0 - нет, 1 - 4 класса, 2 - 5-9 классы, 3 - среднее специальное или 11 классов, 4 - высшее)\n",
    "\n",
    "В датасете присутствуют 3 пропуска, заполним их медианным значением."
   ],
   "metadata": {
    "collapsed": false,
    "pycharm": {
     "name": "#%% md\n"
    }
   }
  },
  {
   "cell_type": "code",
   "execution_count": 541,
   "outputs": [
    {
     "data": {
      "text/plain": "count    394.000000\nmean       2.751269\nstd        1.095473\nmin        0.000000\n25%        2.000000\n50%        3.000000\n75%        4.000000\nmax        4.000000\nName: medu, dtype: float64"
     },
     "metadata": {},
     "output_type": "display_data"
    },
    {
     "data": {
      "text/plain": "<Figure size 432x288 with 1 Axes>",
      "image/png": "[encoded data removed]"
     },
     "metadata": {
      "needs_background": "light"
     },
     "output_type": "display_data"
    }
   ],
   "source": [
    "stud['medu'] = fill_empty_median('medu')\n",
    "number_col_info('medu')"
   ],
   "metadata": {
    "collapsed": false,
    "pycharm": {
     "name": "#%%\n"
    }
   }
  },
  {
   "cell_type": "markdown",
   "source": [
    "В датасете отсутсвуют выбросы по признаку образования матери"
   ],
   "metadata": {
    "collapsed": false,
    "pycharm": {
     "name": "#%% md\n"
    }
   }
  },
  {
   "cell_type": "code",
   "execution_count": 542,
   "outputs": [
    {
     "name": "stdout",
     "output_type": "stream",
     "text": [
      "Колонка medu 25-й перцентиль: 2.0, 75-й перцентиль: 4.0, IQR: 2.0,  Границы выбросов: [-1.0, 7.0].\n",
      "Выбросы отсутствуют\n"
     ]
    }
   ],
   "source": [
    "check_emission('medu')"
   ],
   "metadata": {
    "collapsed": false,
    "pycharm": {
     "name": "#%%\n"
    }
   }
  },
  {
   "cell_type": "markdown",
   "source": [
    "### fedu — образование отца (0 - нет, 1 - 4 класса, 2 - 5-9 классы, 3 - среднее специальное или 11 классов, 4 - высшее)\n",
    "\n",
    "В датасете присутсвуют пропуски и присутсвует значение 40, сделаем предположение, что это опечатка и заменим его на 4,\n",
    "а пропуски заменим на медиану."
   ],
   "metadata": {
    "collapsed": false,
    "pycharm": {
     "name": "#%% md\n"
    }
   }
  },
  {
   "cell_type": "code",
   "execution_count": 543,
   "outputs": [
    {
     "data": {
      "text/plain": "count    394.000000\nmean       2.520305\nstd        1.053695\nmin        0.000000\n25%        2.000000\n50%        2.500000\n75%        3.000000\nmax        4.000000\nName: fedu, dtype: float64"
     },
     "metadata": {},
     "output_type": "display_data"
    },
    {
     "data": {
      "text/plain": "<Figure size 432x288 with 1 Axes>",
      "image/png": "[encoded data removed]"
     },
     "metadata": {
      "needs_background": "light"
     },
     "output_type": "display_data"
    }
   ],
   "source": [
    "stud['fedu'] = stud['fedu'].apply(lambda x: 4 if x == 40 else x)\n",
    "stud['fedu'] = fill_empty_median('fedu')\n",
    "number_col_info('fedu')\n"
   ],
   "metadata": {
    "collapsed": false,
    "pycharm": {
     "name": "#%%\n"
    }
   }
  },
  {
   "cell_type": "markdown",
   "source": [
    "В датасете присутсвуют выбросы - устраним их."
   ],
   "metadata": {
    "collapsed": false
   }
  },
  {
   "cell_type": "code",
   "execution_count": 544,
   "outputs": [
    {
     "name": "stdout",
     "output_type": "stream",
     "text": [
      "Колонка fedu 25-й перцентиль: 2.0, 75-й перцентиль: 3.0, IQR: 1.0,  Границы выбросов: [0.5, 4.5].\n",
      "Выбросы присутствуют - 2\n"
     ]
    }
   ],
   "source": [
    "check_emission('fedu')\n",
    "stud = clear_emission('fedu')"
   ],
   "metadata": {
    "collapsed": false,
    "pycharm": {
     "name": "#%%\n"
    }
   }
  },
  {
   "cell_type": "markdown",
   "source": [
    "### mjob — работа матери\n",
    "('teacher' - учитель,\n",
    "'health' - сфера здравоохранения,\n",
    "'services' - гос служба,\n",
    "'at_home' - не работает,\n",
    "'other' - другое)\n",
    "\n",
    "В датасете присутсвуют пропуски, заполним их самым частым значением.\n",
    "Из информации видно, что самый частый вариант \"другое\" - можно сделать вывод, что результаты по этой колонке\n",
    "не будут очень информативными."
   ],
   "metadata": {
    "collapsed": false,
    "pycharm": {
     "name": "#%% md\n"
    }
   }
  },
  {
   "cell_type": "code",
   "execution_count": 545,
   "outputs": [
    {
     "data": {
      "text/plain": "          mjob\nother      151\nservices    97\nat_home     58\nteacher     54\nhealth      32",
      "text/html": "<div>\n<style scoped>\n    .dataframe tbody tr th:only-of-type {\n        vertical-align: middle;\n    }\n\n    .dataframe tbody tr th {\n        vertical-align: top;\n    }\n\n    .dataframe thead th {\n        text-align: right;\n    }\n</style>\n<table border=\"1\" class=\"dataframe\">\n  <thead>\n    <tr style=\"text-align: right;\">\n      <th></th>\n      <th>mjob</th>\n    </tr>\n  </thead>\n  <tbody>\n    <tr>\n      <th>other</th>\n      <td>151</td>\n    </tr>\n    <tr>\n      <th>services</th>\n      <td>97</td>\n    </tr>\n    <tr>\n      <th>at_home</th>\n      <td>58</td>\n    </tr>\n    <tr>\n      <th>teacher</th>\n      <td>54</td>\n    </tr>\n    <tr>\n      <th>health</th>\n      <td>32</td>\n    </tr>\n  </tbody>\n</table>\n</div>"
     },
     "metadata": {},
     "output_type": "display_data"
    },
    {
     "name": "stdout",
     "output_type": "stream",
     "text": [
      "<class 'pandas.core.frame.DataFrame'>\n",
      "Int64Index: 392 entries, 0 to 394\n",
      "Data columns (total 1 columns):\n",
      " #   Column  Non-Null Count  Dtype \n",
      "---  ------  --------------  ----- \n",
      " 0   mjob    392 non-null    object\n",
      "dtypes: object(1)\n",
      "memory usage: 6.1+ KB\n"
     ]
    }
   ],
   "source": [
    "stud['mjob'] = fill_empty_most_popular('mjob')\n",
    "object_col_info('mjob')"
   ],
   "metadata": {
    "collapsed": false,
    "pycharm": {
     "name": "#%%\n"
    }
   }
  },
  {
   "cell_type": "markdown",
   "source": [
    "### fjob — работа отца\n",
    "('teacher' - учитель,\n",
    " 'health' - сфера здравоохранения,\n",
    " 'services' - гос служба,\n",
    " 'at_home' - не работает,\n",
    " 'other' - другое)\n",
    "\n",
    "В датасете присутсвуют пропуски, заполним их самым частым значением.\n",
    "Из информации видно, что самый частый вариант \"другое\" - можно сделать вывод, что результаты по этой колонке\n",
    "не будут очень информативными."
   ],
   "metadata": {
    "collapsed": false,
    "pycharm": {
     "name": "#%% md\n"
    }
   }
  },
  {
   "cell_type": "code",
   "execution_count": 546,
   "outputs": [
    {
     "data": {
      "text/plain": "          fjob\nother      231\nservices   101\nteacher     29\nat_home     16\nhealth      15",
      "text/html": "<div>\n<style scoped>\n    .dataframe tbody tr th:only-of-type {\n        vertical-align: middle;\n    }\n\n    .dataframe tbody tr th {\n        vertical-align: top;\n    }\n\n    .dataframe thead th {\n        text-align: right;\n    }\n</style>\n<table border=\"1\" class=\"dataframe\">\n  <thead>\n    <tr style=\"text-align: right;\">\n      <th></th>\n      <th>fjob</th>\n    </tr>\n  </thead>\n  <tbody>\n    <tr>\n      <th>other</th>\n      <td>231</td>\n    </tr>\n    <tr>\n      <th>services</th>\n      <td>101</td>\n    </tr>\n    <tr>\n      <th>teacher</th>\n      <td>29</td>\n    </tr>\n    <tr>\n      <th>at_home</th>\n      <td>16</td>\n    </tr>\n    <tr>\n      <th>health</th>\n      <td>15</td>\n    </tr>\n  </tbody>\n</table>\n</div>"
     },
     "metadata": {},
     "output_type": "display_data"
    },
    {
     "name": "stdout",
     "output_type": "stream",
     "text": [
      "<class 'pandas.core.frame.DataFrame'>\n",
      "Int64Index: 392 entries, 0 to 394\n",
      "Data columns (total 1 columns):\n",
      " #   Column  Non-Null Count  Dtype \n",
      "---  ------  --------------  ----- \n",
      " 0   fjob    392 non-null    object\n",
      "dtypes: object(1)\n",
      "memory usage: 6.1+ KB\n"
     ]
    }
   ],
   "source": [
    "stud['fjob'] = fill_empty_most_popular('fjob')\n",
    "object_col_info('fjob')"
   ],
   "metadata": {
    "collapsed": false,
    "pycharm": {
     "name": "#%%\n"
    }
   }
  },
  {
   "cell_type": "markdown",
   "source": [
    "### reason причина выбора школы\n",
    "('home' - близость к дому,\n",
    "'reputation' - репутация школы,\n",
    "'course' - образовательная программа,\n",
    "'other' - другое)\n",
    "\n",
    "В датасете присутсвуют 17 пропусков, но распределение других очень близко,\n",
    "поэтому мы не можем заполнить пустые значения самым популярным.\n",
    "Так же среди возможных вариантов присутсвует вариант \"другое\", предположим, что пустое значение оставили те,\n",
    "кто не смог определиться и заполним пустые значения вариантом \"other\""
   ],
   "metadata": {
    "collapsed": false,
    "pycharm": {
     "name": "#%% md\n"
    }
   }
  },
  {
   "cell_type": "code",
   "execution_count": 547,
   "outputs": [
    {
     "data": {
      "text/plain": "            reason\ncourse         136\nhome           104\nreputation     102\nother           50",
      "text/html": "<div>\n<style scoped>\n    .dataframe tbody tr th:only-of-type {\n        vertical-align: middle;\n    }\n\n    .dataframe tbody tr th {\n        vertical-align: top;\n    }\n\n    .dataframe thead th {\n        text-align: right;\n    }\n</style>\n<table border=\"1\" class=\"dataframe\">\n  <thead>\n    <tr style=\"text-align: right;\">\n      <th></th>\n      <th>reason</th>\n    </tr>\n  </thead>\n  <tbody>\n    <tr>\n      <th>course</th>\n      <td>136</td>\n    </tr>\n    <tr>\n      <th>home</th>\n      <td>104</td>\n    </tr>\n    <tr>\n      <th>reputation</th>\n      <td>102</td>\n    </tr>\n    <tr>\n      <th>other</th>\n      <td>50</td>\n    </tr>\n  </tbody>\n</table>\n</div>"
     },
     "metadata": {},
     "output_type": "display_data"
    },
    {
     "name": "stdout",
     "output_type": "stream",
     "text": [
      "<class 'pandas.core.frame.DataFrame'>\n",
      "Int64Index: 392 entries, 0 to 394\n",
      "Data columns (total 1 columns):\n",
      " #   Column  Non-Null Count  Dtype \n",
      "---  ------  --------------  ----- \n",
      " 0   reason  392 non-null    object\n",
      "dtypes: object(1)\n",
      "memory usage: 6.1+ KB\n"
     ]
    }
   ],
   "source": [
    "stud['reason'] = fill_empty('reason', 'other')\n",
    "object_col_info('reason')"
   ],
   "metadata": {
    "collapsed": false,
    "pycharm": {
     "name": "#%%\n"
    }
   }
  },
  {
   "cell_type": "markdown",
   "source": [
    "### guardian — опекун ('mother' - мать, 'father' - отец, 'other' - другое)\n",
    "\n",
    "В датасете присутствуют пропуски, mother является самым популярным.\n",
    "На данном этапе заполним пропуски самым частым значением."
   ],
   "metadata": {
    "collapsed": false,
    "pycharm": {
     "name": "#%% md\n"
    }
   }
  },
  {
   "cell_type": "code",
   "execution_count": 548,
   "outputs": [
    {
     "data": {
      "text/plain": "        guardian\nmother       278\nfather        86\nother         28",
      "text/html": "<div>\n<style scoped>\n    .dataframe tbody tr th:only-of-type {\n        vertical-align: middle;\n    }\n\n    .dataframe tbody tr th {\n        vertical-align: top;\n    }\n\n    .dataframe thead th {\n        text-align: right;\n    }\n</style>\n<table border=\"1\" class=\"dataframe\">\n  <thead>\n    <tr style=\"text-align: right;\">\n      <th></th>\n      <th>guardian</th>\n    </tr>\n  </thead>\n  <tbody>\n    <tr>\n      <th>mother</th>\n      <td>278</td>\n    </tr>\n    <tr>\n      <th>father</th>\n      <td>86</td>\n    </tr>\n    <tr>\n      <th>other</th>\n      <td>28</td>\n    </tr>\n  </tbody>\n</table>\n</div>"
     },
     "metadata": {},
     "output_type": "display_data"
    },
    {
     "name": "stdout",
     "output_type": "stream",
     "text": [
      "<class 'pandas.core.frame.DataFrame'>\n",
      "Int64Index: 392 entries, 0 to 394\n",
      "Data columns (total 1 columns):\n",
      " #   Column    Non-Null Count  Dtype \n",
      "---  ------    --------------  ----- \n",
      " 0   guardian  392 non-null    object\n",
      "dtypes: object(1)\n",
      "memory usage: 6.1+ KB\n"
     ]
    }
   ],
   "source": [
    "stud['guardian'] = fill_empty_most_popular('guardian')\n",
    "object_col_info('guardian')"
   ],
   "metadata": {
    "collapsed": false,
    "pycharm": {
     "name": "#%%\n"
    }
   }
  },
  {
   "cell_type": "markdown",
   "source": [
    "### traveltime — время в пути до школы (1 - <15 мин., 2 - 15-30 мин., 3 - 30-60 мин., 4 - >60 мин.)\n",
    "\n",
    "В датасете присутствуют пропуски, заполним их медианным значением."
   ],
   "metadata": {
    "collapsed": false,
    "pycharm": {
     "name": "#%% md\n"
    }
   }
  },
  {
   "cell_type": "code",
   "execution_count": 549,
   "outputs": [
    {
     "data": {
      "text/plain": "count    392.000000\nmean       1.405612\nstd        0.679453\nmin        1.000000\n25%        1.000000\n50%        1.000000\n75%        2.000000\nmax        4.000000\nName: traveltime, dtype: float64"
     },
     "metadata": {},
     "output_type": "display_data"
    },
    {
     "data": {
      "text/plain": "<Figure size 432x288 with 1 Axes>",
      "image/png": "[encoded data removed]"
     },
     "metadata": {
      "needs_background": "light"
     },
     "output_type": "display_data"
    }
   ],
   "source": [
    "stud['traveltime'] = fill_empty_median('traveltime')\n",
    "number_col_info('traveltime')"
   ],
   "metadata": {
    "collapsed": false,
    "pycharm": {
     "name": "#%%\n"
    }
   }
  },
  {
   "cell_type": "markdown",
   "source": [
    "В датасете присутсвуют выбросы - устраним их."
   ],
   "metadata": {
    "collapsed": false
   }
  },
  {
   "cell_type": "code",
   "execution_count": 550,
   "outputs": [
    {
     "name": "stdout",
     "output_type": "stream",
     "text": [
      "Колонка traveltime 25-й перцентиль: 1.0, 75-й перцентиль: 2.0, IQR: 1.0,  Границы выбросов: [-0.5, 3.5].\n",
      "Выбросы присутствуют - 7\n"
     ]
    }
   ],
   "source": [
    "check_emission('traveltime')\n",
    "stud = clear_emission('traveltime')"
   ],
   "metadata": {
    "collapsed": false,
    "pycharm": {
     "name": "#%%\n"
    }
   }
  },
  {
   "cell_type": "markdown",
   "source": [
    "### studytime — время на учёбу помимо школы в неделю (1 - <2 часов, 2 - 2-5 часов, 3 - 5-10 часов, 4 - >10 часов)\n",
    "В датасете присутствуют пропуски, заполним их медианным значением."
   ],
   "metadata": {
    "collapsed": false,
    "pycharm": {
     "name": "#%% md\n"
    }
   }
  },
  {
   "cell_type": "code",
   "execution_count": 551,
   "outputs": [
    {
     "data": {
      "text/plain": "count    385.000000\nmean       2.036364\nstd        0.825207\nmin        1.000000\n25%        1.000000\n50%        2.000000\n75%        2.000000\nmax        4.000000\nName: studytime, dtype: float64"
     },
     "metadata": {},
     "output_type": "display_data"
    },
    {
     "data": {
      "text/plain": "<Figure size 432x288 with 1 Axes>",
      "image/png": "[encoded data removed]"
     },
     "metadata": {
      "needs_background": "light"
     },
     "output_type": "display_data"
    }
   ],
   "source": [
    "stud['studytime'] = fill_empty_median('studytime')\n",
    "number_col_info('studytime')"
   ],
   "metadata": {
    "collapsed": false,
    "pycharm": {
     "name": "#%%\n"
    }
   }
  },
  {
   "cell_type": "markdown",
   "source": [
    "В датасете присутсвуют выбросы - устраним их."
   ],
   "metadata": {
    "collapsed": false
   }
  },
  {
   "cell_type": "code",
   "execution_count": 552,
   "outputs": [
    {
     "name": "stdout",
     "output_type": "stream",
     "text": [
      "Колонка studytime 25-й перцентиль: 1.0, 75-й перцентиль: 2.0, IQR: 1.0,  Границы выбросов: [-0.5, 3.5].\n",
      "Выбросы присутствуют - 25\n"
     ]
    }
   ],
   "source": [
    "check_emission('studytime')\n",
    "stud = clear_emission('studytime')"
   ],
   "metadata": {
    "collapsed": false,
    "pycharm": {
     "name": "#%%\n"
    }
   }
  },
  {
   "cell_type": "markdown",
   "source": [
    "### failures — количество внеучебных неудач (n, если 1<=n<=3, иначе 0)\n",
    "В датасете присутствуют пропуски, заполним их медианным значением."
   ],
   "metadata": {
    "collapsed": false,
    "pycharm": {
     "name": "#%% md\n"
    }
   }
  },
  {
   "cell_type": "code",
   "execution_count": 553,
   "outputs": [
    {
     "data": {
      "text/plain": "count    360.000000\nmean       0.322222\nstd        0.713230\nmin        0.000000\n25%        0.000000\n50%        0.000000\n75%        0.000000\nmax        3.000000\nName: failures, dtype: float64"
     },
     "metadata": {},
     "output_type": "display_data"
    },
    {
     "data": {
      "text/plain": "<Figure size 432x288 with 1 Axes>",
      "image/png": "[encoded data removed]"
     },
     "metadata": {
      "needs_background": "light"
     },
     "output_type": "display_data"
    }
   ],
   "source": [
    "stud['failures'] = fill_empty_median('failures')\n",
    "number_col_info('failures')"
   ],
   "metadata": {
    "collapsed": false,
    "pycharm": {
     "name": "#%%\n"
    }
   }
  },
  {
   "cell_type": "markdown",
   "source": [
    "В датасете присутствуют выбросы из-за того что большинство учеников не имеет внеучебных задач,\n",
    "но количество учеников с задачами все же существенно, то выбросы по failures не удаляем."
   ],
   "metadata": {
    "collapsed": false,
    "pycharm": {
     "name": "#%% md\n"
    }
   }
  },
  {
   "cell_type": "code",
   "execution_count": 554,
   "outputs": [
    {
     "name": "stdout",
     "output_type": "stream",
     "text": [
      "Колонка failures 25-й перцентиль: 0.0, 75-й перцентиль: 0.0, IQR: 0.0,  Границы выбросов: [0.0, 0.0].\n",
      "Выбросы присутствуют - 76\n"
     ]
    }
   ],
   "source": [
    "check_emission('failures')"
   ],
   "metadata": {
    "collapsed": false,
    "pycharm": {
     "name": "#%%\n"
    }
   }
  },
  {
   "cell_type": "markdown",
   "source": [
    "### schoolsup — дополнительная образовательная поддержка (yes или no)\n",
    "\n",
    "Есть пропуски, заполним их самым частым вариантом"
   ],
   "metadata": {
    "collapsed": false,
    "pycharm": {
     "name": "#%% md\n"
    }
   }
  },
  {
   "cell_type": "code",
   "execution_count": 555,
   "outputs": [
    {
     "data": {
      "text/plain": "     schoolsup\nno         316\nyes         44",
      "text/html": "<div>\n<style scoped>\n    .dataframe tbody tr th:only-of-type {\n        vertical-align: middle;\n    }\n\n    .dataframe tbody tr th {\n        vertical-align: top;\n    }\n\n    .dataframe thead th {\n        text-align: right;\n    }\n</style>\n<table border=\"1\" class=\"dataframe\">\n  <thead>\n    <tr style=\"text-align: right;\">\n      <th></th>\n      <th>schoolsup</th>\n    </tr>\n  </thead>\n  <tbody>\n    <tr>\n      <th>no</th>\n      <td>316</td>\n    </tr>\n    <tr>\n      <th>yes</th>\n      <td>44</td>\n    </tr>\n  </tbody>\n</table>\n</div>"
     },
     "metadata": {},
     "output_type": "display_data"
    },
    {
     "name": "stdout",
     "output_type": "stream",
     "text": [
      "<class 'pandas.core.frame.DataFrame'>\n",
      "Int64Index: 360 entries, 0 to 394\n",
      "Data columns (total 1 columns):\n",
      " #   Column     Non-Null Count  Dtype \n",
      "---  ------     --------------  ----- \n",
      " 0   schoolsup  360 non-null    object\n",
      "dtypes: object(1)\n",
      "memory usage: 5.6+ KB\n"
     ]
    }
   ],
   "source": [
    "stud['schoolsup'] = fill_empty_most_popular('schoolsup')\n",
    "object_col_info('schoolsup')"
   ],
   "metadata": {
    "collapsed": false,
    "pycharm": {
     "name": "#%%\n"
    }
   }
  },
  {
   "cell_type": "markdown",
   "source": [
    "### famsup — семейная образовательная поддержка (yes или no)\n",
    "Есть пропуски, заполним их самым частым вариантом"
   ],
   "metadata": {
    "collapsed": false,
    "pycharm": {
     "name": "#%% md\n"
    }
   }
  },
  {
   "cell_type": "code",
   "execution_count": 556,
   "outputs": [
    {
     "data": {
      "text/plain": "     famsup\nyes     233\nno      127",
      "text/html": "<div>\n<style scoped>\n    .dataframe tbody tr th:only-of-type {\n        vertical-align: middle;\n    }\n\n    .dataframe tbody tr th {\n        vertical-align: top;\n    }\n\n    .dataframe thead th {\n        text-align: right;\n    }\n</style>\n<table border=\"1\" class=\"dataframe\">\n  <thead>\n    <tr style=\"text-align: right;\">\n      <th></th>\n      <th>famsup</th>\n    </tr>\n  </thead>\n  <tbody>\n    <tr>\n      <th>yes</th>\n      <td>233</td>\n    </tr>\n    <tr>\n      <th>no</th>\n      <td>127</td>\n    </tr>\n  </tbody>\n</table>\n</div>"
     },
     "metadata": {},
     "output_type": "display_data"
    },
    {
     "name": "stdout",
     "output_type": "stream",
     "text": [
      "<class 'pandas.core.frame.DataFrame'>\n",
      "Int64Index: 360 entries, 0 to 394\n",
      "Data columns (total 1 columns):\n",
      " #   Column  Non-Null Count  Dtype \n",
      "---  ------  --------------  ----- \n",
      " 0   famsup  360 non-null    object\n",
      "dtypes: object(1)\n",
      "memory usage: 5.6+ KB\n"
     ]
    }
   ],
   "source": [
    "stud['famsup'] = fill_empty_most_popular('famsup')\n",
    "object_col_info('famsup')"
   ],
   "metadata": {
    "collapsed": false,
    "pycharm": {
     "name": "#%%\n"
    }
   }
  },
  {
   "cell_type": "markdown",
   "source": [
    "### paid — дополнительные платные занятия по математике (yes или no)\n",
    "\n",
    "Есть пропуски, заполним их самым частым вариантом"
   ],
   "metadata": {
    "collapsed": false,
    "pycharm": {
     "name": "#%% md\n"
    }
   }
  },
  {
   "cell_type": "code",
   "execution_count": 557,
   "outputs": [
    {
     "data": {
      "text/plain": "     paid\nno    222\nyes   138",
      "text/html": "<div>\n<style scoped>\n    .dataframe tbody tr th:only-of-type {\n        vertical-align: middle;\n    }\n\n    .dataframe tbody tr th {\n        vertical-align: top;\n    }\n\n    .dataframe thead th {\n        text-align: right;\n    }\n</style>\n<table border=\"1\" class=\"dataframe\">\n  <thead>\n    <tr style=\"text-align: right;\">\n      <th></th>\n      <th>paid</th>\n    </tr>\n  </thead>\n  <tbody>\n    <tr>\n      <th>no</th>\n      <td>222</td>\n    </tr>\n    <tr>\n      <th>yes</th>\n      <td>138</td>\n    </tr>\n  </tbody>\n</table>\n</div>"
     },
     "metadata": {},
     "output_type": "display_data"
    },
    {
     "name": "stdout",
     "output_type": "stream",
     "text": [
      "<class 'pandas.core.frame.DataFrame'>\n",
      "Int64Index: 360 entries, 0 to 394\n",
      "Data columns (total 1 columns):\n",
      " #   Column  Non-Null Count  Dtype \n",
      "---  ------  --------------  ----- \n",
      " 0   paid    360 non-null    object\n",
      "dtypes: object(1)\n",
      "memory usage: 5.6+ KB\n"
     ]
    }
   ],
   "source": [
    "stud['paid'] = fill_empty_most_popular('paid')\n",
    "object_col_info('paid')"
   ],
   "metadata": {
    "collapsed": false,
    "pycharm": {
     "name": "#%%\n"
    }
   }
  },
  {
   "cell_type": "markdown",
   "source": [
    "### activities — дополнительные внеучебные занятия (yes или no)\n",
    "\n",
    "Есть пропуски, но распределение вариантов близко к 50 на 50, потому пропуски заполним случайно.\n"
   ],
   "metadata": {
    "collapsed": false,
    "pycharm": {
     "name": "#%% md\n"
    }
   }
  },
  {
   "cell_type": "code",
   "execution_count": 558,
   "outputs": [
    {
     "data": {
      "text/plain": "     activities\nno          188\nyes         172",
      "text/html": "<div>\n<style scoped>\n    .dataframe tbody tr th:only-of-type {\n        vertical-align: middle;\n    }\n\n    .dataframe tbody tr th {\n        vertical-align: top;\n    }\n\n    .dataframe thead th {\n        text-align: right;\n    }\n</style>\n<table border=\"1\" class=\"dataframe\">\n  <thead>\n    <tr style=\"text-align: right;\">\n      <th></th>\n      <th>activities</th>\n    </tr>\n  </thead>\n  <tbody>\n    <tr>\n      <th>no</th>\n      <td>188</td>\n    </tr>\n    <tr>\n      <th>yes</th>\n      <td>172</td>\n    </tr>\n  </tbody>\n</table>\n</div>"
     },
     "metadata": {},
     "output_type": "display_data"
    },
    {
     "name": "stdout",
     "output_type": "stream",
     "text": [
      "<class 'pandas.core.frame.DataFrame'>\n",
      "Int64Index: 360 entries, 0 to 394\n",
      "Data columns (total 1 columns):\n",
      " #   Column      Non-Null Count  Dtype \n",
      "---  ------      --------------  ----- \n",
      " 0   activities  360 non-null    object\n",
      "dtypes: object(1)\n",
      "memory usage: 5.6+ KB\n"
     ]
    }
   ],
   "source": [
    "stud['activities'] = stud['activities'].apply(lambda x: 'yes' if np.random.randint(2) == 1 else 'no')\n",
    "object_col_info('activities')"
   ],
   "metadata": {
    "collapsed": false,
    "pycharm": {
     "name": "#%%\n"
    }
   }
  },
  {
   "cell_type": "markdown",
   "source": [
    "### nursery — посещал детский сад (yes или no)\n",
    "\n",
    "Есть пропуски, заполним их самым частым вариантом"
   ],
   "metadata": {
    "collapsed": false,
    "pycharm": {
     "name": "#%% md\n"
    }
   }
  },
  {
   "cell_type": "code",
   "execution_count": 559,
   "outputs": [
    {
     "data": {
      "text/plain": "     nursery\nyes      287\nno        73",
      "text/html": "<div>\n<style scoped>\n    .dataframe tbody tr th:only-of-type {\n        vertical-align: middle;\n    }\n\n    .dataframe tbody tr th {\n        vertical-align: top;\n    }\n\n    .dataframe thead th {\n        text-align: right;\n    }\n</style>\n<table border=\"1\" class=\"dataframe\">\n  <thead>\n    <tr style=\"text-align: right;\">\n      <th></th>\n      <th>nursery</th>\n    </tr>\n  </thead>\n  <tbody>\n    <tr>\n      <th>yes</th>\n      <td>287</td>\n    </tr>\n    <tr>\n      <th>no</th>\n      <td>73</td>\n    </tr>\n  </tbody>\n</table>\n</div>"
     },
     "metadata": {},
     "output_type": "display_data"
    },
    {
     "name": "stdout",
     "output_type": "stream",
     "text": [
      "<class 'pandas.core.frame.DataFrame'>\n",
      "Int64Index: 360 entries, 0 to 394\n",
      "Data columns (total 1 columns):\n",
      " #   Column   Non-Null Count  Dtype \n",
      "---  ------   --------------  ----- \n",
      " 0   nursery  360 non-null    object\n",
      "dtypes: object(1)\n",
      "memory usage: 5.6+ KB\n"
     ]
    }
   ],
   "source": [
    "stud['nursery'] = fill_empty_most_popular('nursery')\n",
    "object_col_info('nursery')"
   ],
   "metadata": {
    "collapsed": false,
    "pycharm": {
     "name": "#%%\n"
    }
   }
  },
  {
   "cell_type": "markdown",
   "source": [
    "### higher — хочет получить высшее образование (yes или no)\n",
    "\n",
    "Есть пропуски, заполним их самым частым вариантом"
   ],
   "metadata": {
    "collapsed": false,
    "pycharm": {
     "name": "#%% md\n"
    }
   }
  },
  {
   "cell_type": "code",
   "execution_count": 560,
   "outputs": [
    {
     "data": {
      "text/plain": "     higher\nyes     343\nno       17",
      "text/html": "<div>\n<style scoped>\n    .dataframe tbody tr th:only-of-type {\n        vertical-align: middle;\n    }\n\n    .dataframe tbody tr th {\n        vertical-align: top;\n    }\n\n    .dataframe thead th {\n        text-align: right;\n    }\n</style>\n<table border=\"1\" class=\"dataframe\">\n  <thead>\n    <tr style=\"text-align: right;\">\n      <th></th>\n      <th>higher</th>\n    </tr>\n  </thead>\n  <tbody>\n    <tr>\n      <th>yes</th>\n      <td>343</td>\n    </tr>\n    <tr>\n      <th>no</th>\n      <td>17</td>\n    </tr>\n  </tbody>\n</table>\n</div>"
     },
     "metadata": {},
     "output_type": "display_data"
    },
    {
     "name": "stdout",
     "output_type": "stream",
     "text": [
      "<class 'pandas.core.frame.DataFrame'>\n",
      "Int64Index: 360 entries, 0 to 394\n",
      "Data columns (total 1 columns):\n",
      " #   Column  Non-Null Count  Dtype \n",
      "---  ------  --------------  ----- \n",
      " 0   higher  360 non-null    object\n",
      "dtypes: object(1)\n",
      "memory usage: 5.6+ KB\n"
     ]
    }
   ],
   "source": [
    "stud['higher'] = fill_empty_most_popular('higher')\n",
    "object_col_info('higher')"
   ],
   "metadata": {
    "collapsed": false,
    "pycharm": {
     "name": "#%%\n"
    }
   }
  },
  {
   "cell_type": "markdown",
   "source": [
    "### internet — наличие интернета дома (yes или no)"
   ],
   "metadata": {
    "collapsed": false,
    "pycharm": {
     "name": "#%% md\n"
    }
   }
  },
  {
   "cell_type": "code",
   "execution_count": 561,
   "outputs": [
    {
     "data": {
      "text/plain": "     internet\nyes       309\nno         51",
      "text/html": "<div>\n<style scoped>\n    .dataframe tbody tr th:only-of-type {\n        vertical-align: middle;\n    }\n\n    .dataframe tbody tr th {\n        vertical-align: top;\n    }\n\n    .dataframe thead th {\n        text-align: right;\n    }\n</style>\n<table border=\"1\" class=\"dataframe\">\n  <thead>\n    <tr style=\"text-align: right;\">\n      <th></th>\n      <th>internet</th>\n    </tr>\n  </thead>\n  <tbody>\n    <tr>\n      <th>yes</th>\n      <td>309</td>\n    </tr>\n    <tr>\n      <th>no</th>\n      <td>51</td>\n    </tr>\n  </tbody>\n</table>\n</div>"
     },
     "metadata": {},
     "output_type": "display_data"
    },
    {
     "name": "stdout",
     "output_type": "stream",
     "text": [
      "<class 'pandas.core.frame.DataFrame'>\n",
      "Int64Index: 360 entries, 0 to 394\n",
      "Data columns (total 1 columns):\n",
      " #   Column    Non-Null Count  Dtype \n",
      "---  ------    --------------  ----- \n",
      " 0   internet  360 non-null    object\n",
      "dtypes: object(1)\n",
      "memory usage: 5.6+ KB\n"
     ]
    }
   ],
   "source": [
    "stud['internet'] = fill_empty_most_popular('internet')\n",
    "object_col_info('internet')"
   ],
   "metadata": {
    "collapsed": false,
    "pycharm": {
     "name": "#%%\n"
    }
   }
  },
  {
   "cell_type": "markdown",
   "source": [
    "### romantic — в романтических отношениях (yes или no)\n",
    "Есть пропуски, заполним их самым частым вариантом"
   ],
   "metadata": {
    "collapsed": false,
    "pycharm": {
     "name": "#%% md\n"
    }
   }
  },
  {
   "cell_type": "code",
   "execution_count": 562,
   "outputs": [
    {
     "data": {
      "text/plain": "     romantic\nno        246\nyes       114",
      "text/html": "<div>\n<style scoped>\n    .dataframe tbody tr th:only-of-type {\n        vertical-align: middle;\n    }\n\n    .dataframe tbody tr th {\n        vertical-align: top;\n    }\n\n    .dataframe thead th {\n        text-align: right;\n    }\n</style>\n<table border=\"1\" class=\"dataframe\">\n  <thead>\n    <tr style=\"text-align: right;\">\n      <th></th>\n      <th>romantic</th>\n    </tr>\n  </thead>\n  <tbody>\n    <tr>\n      <th>no</th>\n      <td>246</td>\n    </tr>\n    <tr>\n      <th>yes</th>\n      <td>114</td>\n    </tr>\n  </tbody>\n</table>\n</div>"
     },
     "metadata": {},
     "output_type": "display_data"
    },
    {
     "name": "stdout",
     "output_type": "stream",
     "text": [
      "<class 'pandas.core.frame.DataFrame'>\n",
      "Int64Index: 360 entries, 0 to 394\n",
      "Data columns (total 1 columns):\n",
      " #   Column    Non-Null Count  Dtype \n",
      "---  ------    --------------  ----- \n",
      " 0   romantic  360 non-null    object\n",
      "dtypes: object(1)\n",
      "memory usage: 5.6+ KB\n"
     ]
    }
   ],
   "source": [
    "stud['romantic'] = fill_empty_most_popular('romantic')\n",
    "object_col_info('romantic')"
   ],
   "metadata": {
    "collapsed": false,
    "pycharm": {
     "name": "#%%\n"
    }
   }
  },
  {
   "cell_type": "markdown",
   "source": [
    "### famrel — семейные отношения (от 1 - очень плохо до 5 - очень хорошо)\n",
    "\n",
    "В датасете присутсвует вариант -1, который является заведомо неверным, исключим его из выборки.\n",
    "Пропуски заполним медианой"
   ],
   "metadata": {
    "collapsed": false,
    "pycharm": {
     "name": "#%% md\n"
    }
   }
  },
  {
   "cell_type": "code",
   "execution_count": 563,
   "outputs": [
    {
     "data": {
      "text/plain": "count    359.000000\nmean       3.958217\nstd        0.842935\nmin        1.000000\n25%        4.000000\n50%        4.000000\n75%        4.000000\nmax        5.000000\nName: famrel, dtype: float64"
     },
     "metadata": {},
     "output_type": "display_data"
    },
    {
     "data": {
      "text/plain": "<Figure size 432x288 with 1 Axes>",
      "image/png": "[encoded data removed]"
     },
     "metadata": {
      "needs_background": "light"
     },
     "output_type": "display_data"
    }
   ],
   "source": [
    "stud['famrel'] = fill_empty_median('famrel')\n",
    "stud = stud.loc[stud.famrel >= 1]\n",
    "number_col_info('famrel')"
   ],
   "metadata": {
    "collapsed": false,
    "pycharm": {
     "name": "#%%\n"
    }
   }
  },
  {
   "cell_type": "markdown",
   "source": [
    "В датасете присутсвуют выбросы так как у большей части семей хорошие отношения.\n",
    "Данные на основе выбросов по famrel удалять не будем."
   ],
   "metadata": {
    "collapsed": false,
    "pycharm": {
     "name": "#%% md\n"
    }
   }
  },
  {
   "cell_type": "code",
   "execution_count": 564,
   "outputs": [
    {
     "name": "stdout",
     "output_type": "stream",
     "text": [
      "Колонка famrel 25-й перцентиль: 4.0, 75-й перцентиль: 4.0, IQR: 0.0,  Границы выбросов: [4.0, 4.0].\n",
      "Выбросы присутствуют - 167\n"
     ]
    }
   ],
   "source": [
    "check_emission('famrel')"
   ],
   "metadata": {
    "collapsed": false,
    "pycharm": {
     "name": "#%%\n"
    }
   }
  },
  {
   "cell_type": "markdown",
   "source": [
    "### goout — проведение времени с друзьями (от 1 - очень мало до 5 - очень много)\n",
    "\n",
    "Заменим пустые значения на медиану"
   ],
   "metadata": {
    "collapsed": false,
    "pycharm": {
     "name": "#%% md\n"
    }
   }
  },
  {
   "cell_type": "code",
   "execution_count": 565,
   "outputs": [
    {
     "data": {
      "text/plain": "count    359.000000\nmean       3.097493\nstd        1.090318\nmin        1.000000\n25%        2.000000\n50%        3.000000\n75%        4.000000\nmax        5.000000\nName: goout, dtype: float64"
     },
     "metadata": {},
     "output_type": "display_data"
    },
    {
     "data": {
      "text/plain": "<Figure size 432x288 with 1 Axes>",
      "image/png": "[encoded data removed]"
     },
     "metadata": {
      "needs_background": "light"
     },
     "output_type": "display_data"
    }
   ],
   "source": [
    "stud['goout'] = fill_empty_median('goout')\n",
    "number_col_info('goout')"
   ],
   "metadata": {
    "collapsed": false,
    "pycharm": {
     "name": "#%%\n"
    }
   }
  },
  {
   "cell_type": "markdown",
   "source": [
    "Выбросы отсутсвуют."
   ],
   "metadata": {
    "collapsed": false,
    "pycharm": {
     "name": "#%% md\n"
    }
   }
  },
  {
   "cell_type": "code",
   "execution_count": 566,
   "outputs": [
    {
     "name": "stdout",
     "output_type": "stream",
     "text": [
      "Колонка goout 25-й перцентиль: 2.0, 75-й перцентиль: 4.0, IQR: 2.0,  Границы выбросов: [-1.0, 7.0].\n",
      "Выбросы отсутствуют\n"
     ]
    }
   ],
   "source": [
    "check_emission('goout')"
   ],
   "metadata": {
    "collapsed": false,
    "pycharm": {
     "name": "#%%\n"
    }
   }
  },
  {
   "cell_type": "markdown",
   "source": [
    "### health — текущее состояние здоровья (от 1 - очень плохо до 5 - очень хорошо)\n",
    "Заменим пустые значения на медиану"
   ],
   "metadata": {
    "collapsed": false,
    "pycharm": {
     "name": "#%% md\n"
    }
   }
  },
  {
   "cell_type": "code",
   "execution_count": 567,
   "outputs": [
    {
     "data": {
      "text/plain": "count    359.000000\nmean       3.568245\nstd        1.380306\nmin        1.000000\n25%        3.000000\n50%        4.000000\n75%        5.000000\nmax        5.000000\nName: health, dtype: float64"
     },
     "metadata": {},
     "output_type": "display_data"
    },
    {
     "data": {
      "text/plain": "<Figure size 432x288 with 1 Axes>",
      "image/png": "[encoded data removed]"
     },
     "metadata": {
      "needs_background": "light"
     },
     "output_type": "display_data"
    }
   ],
   "source": [
    "stud['health'] = fill_empty_median('health')\n",
    "number_col_info('health')"
   ],
   "metadata": {
    "collapsed": false,
    "pycharm": {
     "name": "#%%\n"
    }
   }
  },
  {
   "cell_type": "markdown",
   "source": [
    "Выбросы отсутсвуют."
   ],
   "metadata": {
    "collapsed": false,
    "pycharm": {
     "name": "#%% md\n"
    }
   }
  },
  {
   "cell_type": "code",
   "execution_count": 568,
   "outputs": [
    {
     "name": "stdout",
     "output_type": "stream",
     "text": [
      "Колонка health 25-й перцентиль: 3.0, 75-й перцентиль: 5.0, IQR: 2.0,  Границы выбросов: [0.0, 8.0].\n",
      "Выбросы отсутствуют\n"
     ]
    }
   ],
   "source": [
    "check_emission('health')"
   ],
   "metadata": {
    "collapsed": false,
    "pycharm": {
     "name": "#%%\n"
    }
   }
  },
  {
   "cell_type": "markdown",
   "source": [
    "### absences — количество пропущенных занятий\n",
    "Заменим пустые значения на медиану"
   ],
   "metadata": {
    "collapsed": false,
    "pycharm": {
     "name": "#%% md\n"
    }
   }
  },
  {
   "cell_type": "code",
   "execution_count": 569,
   "outputs": [
    {
     "data": {
      "text/plain": "count    359.000000\nmean       7.415042\nstd       24.191806\nmin        0.000000\n25%        0.000000\n50%        4.000000\n75%        8.000000\nmax      385.000000\nName: absences, dtype: float64"
     },
     "metadata": {},
     "output_type": "display_data"
    },
    {
     "data": {
      "text/plain": "<Figure size 432x288 with 1 Axes>",
      "image/png": "[encoded data removed]"
     },
     "metadata": {
      "needs_background": "light"
     },
     "output_type": "display_data"
    }
   ],
   "source": [
    "stud['absences'] = fill_empty_median('absences')\n",
    "number_col_info('absences')"
   ],
   "metadata": {
    "collapsed": false,
    "pycharm": {
     "name": "#%%\n"
    }
   }
  },
  {
   "cell_type": "markdown",
   "source": [
    "В датасете присутствуют выбросы, удалим их"
   ],
   "metadata": {
    "collapsed": false,
    "pycharm": {
     "name": "#%% md\n"
    }
   }
  },
  {
   "cell_type": "code",
   "execution_count": 570,
   "outputs": [
    {
     "name": "stdout",
     "output_type": "stream",
     "text": [
      "Колонка absences 25-й перцентиль: 0.0, 75-й перцентиль: 8.0, IQR: 8.0,  Границы выбросов: [-12.0, 20.0].\n",
      "Выбросы присутствуют - 17\n"
     ]
    }
   ],
   "source": [
    "check_emission('absences')\n",
    "stud = clear_emission('absences')"
   ],
   "metadata": {
    "collapsed": false,
    "pycharm": {
     "name": "#%%\n"
    }
   }
  },
  {
   "cell_type": "markdown",
   "source": [
    "### баллы по госэкзамену по математике\n",
    "\n",
    "заменяем пустые значения медианой"
   ],
   "metadata": {
    "collapsed": false,
    "pycharm": {
     "name": "#%% md\n"
    }
   }
  },
  {
   "cell_type": "code",
   "execution_count": 571,
   "outputs": [
    {
     "data": {
      "text/plain": "count    342.000000\nmean      52.032164\nstd       22.815892\nmin        0.000000\n25%       45.000000\n50%       55.000000\n75%       68.750000\nmax       95.000000\nName: score, dtype: float64"
     },
     "metadata": {},
     "output_type": "display_data"
    },
    {
     "data": {
      "text/plain": "<Figure size 432x288 with 1 Axes>",
      "image/png": "[encoded data removed]"
     },
     "metadata": {
      "needs_background": "light"
     },
     "output_type": "display_data"
    }
   ],
   "source": [
    "stud['score'] = fill_empty_median('score')\n",
    "number_col_info('score')"
   ],
   "metadata": {
    "collapsed": false,
    "pycharm": {
     "name": "#%%\n"
    }
   }
  },
  {
   "cell_type": "markdown",
   "source": [
    "## Корреляционный анализ\n",
    "\n",
    "строим графики зависимости переменных"
   ],
   "metadata": {
    "collapsed": false,
    "pycharm": {
     "name": "#%% md\n"
    }
   }
  },
  {
   "cell_type": "code",
   "execution_count": 572,
   "outputs": [],
   "source": [
    "# sns.pairplot(stud, kind = 'reg')"
   ],
   "metadata": {
    "collapsed": false,
    "pycharm": {
     "name": "#%%\n"
    }
   }
  },
  {
   "cell_type": "markdown",
   "source": [
    "матрица кореляций"
   ],
   "metadata": {
    "collapsed": false,
    "pycharm": {
     "name": "#%% md\n"
    }
   }
  },
  {
   "cell_type": "code",
   "execution_count": 576,
   "outputs": [
    {
     "data": {
      "text/plain": "                 age      medu      fedu  traveltime  studytime  failures  \\\nage         1.000000 -0.188733 -0.201657    0.133009   0.061961  0.217653   \nmedu       -0.188733  1.000000  0.612100   -0.131290   0.110552 -0.258629   \nfedu       -0.201657  0.612100  1.000000   -0.061995   0.091622 -0.282201   \ntraveltime  0.133009 -0.131290 -0.061995    1.000000  -0.110839  0.008542   \nstudytime   0.061961  0.110552  0.091622   -0.110839   1.000000 -0.117187   \nfailures    0.217653 -0.258629 -0.282201    0.008542  -0.117187  1.000000   \nfamrel      0.006022  0.034582  0.013886   -0.003957   0.097983 -0.026065   \nfreetime    0.034733  0.061799 -0.023456   -0.034433  -0.083580  0.077845   \ngoout       0.149041  0.074047  0.034547   -0.019065  -0.002917  0.063319   \nhealth     -0.049100 -0.028179  0.019148   -0.054425  -0.043550  0.097455   \nabsences    0.142599  0.063291 -0.016909   -0.049299  -0.064741  0.076008   \nscore      -0.162739  0.220293  0.147009   -0.049260   0.118865 -0.348435   \n\n              famrel  freetime     goout    health  absences     score  \nage         0.006022  0.034733  0.149041 -0.049100  0.142599 -0.162739  \nmedu        0.034582  0.061799  0.074047 -0.028179  0.063291  0.220293  \nfedu        0.013886 -0.023456  0.034547  0.019148 -0.016909  0.147009  \ntraveltime -0.003957 -0.034433 -0.019065 -0.054425 -0.049299 -0.049260  \nstudytime   0.097983 -0.083580 -0.002917 -0.043550 -0.064741  0.118865  \nfailures   -0.026065  0.077845  0.063319  0.097455  0.076008 -0.348435  \nfamrel      1.000000  0.162783  0.051837  0.060783 -0.087544  0.048571  \nfreetime    0.162783  1.000000  0.231941  0.034639  0.098488  0.066883  \ngoout       0.051837  0.231941  1.000000 -0.011788  0.109842 -0.114917  \nhealth      0.060783  0.034639 -0.011788  1.000000  0.002491 -0.065852  \nabsences   -0.087544  0.098488  0.109842  0.002491  1.000000  0.076230  \nscore       0.048571  0.066883 -0.114917 -0.065852  0.076230  1.000000  ",
      "text/html": "<div>\n<style scoped>\n    .dataframe tbody tr th:only-of-type {\n        vertical-align: middle;\n    }\n\n    .dataframe tbody tr th {\n        vertical-align: top;\n    }\n\n    .dataframe thead th {\n        text-align: right;\n    }\n</style>\n<table border=\"1\" class=\"dataframe\">\n  <thead>\n    <tr style=\"text-align: right;\">\n      <th></th>\n      <th>age</th>\n      <th>medu</th>\n      <th>fedu</th>\n      <th>traveltime</th>\n      <th>studytime</th>\n      <th>failures</th>\n      <th>famrel</th>\n      <th>freetime</th>\n      <th>goout</th>\n      <th>health</th>\n      <th>absences</th>\n      <th>score</th>\n    </tr>\n  </thead>\n  <tbody>\n    <tr>\n      <th>age</th>\n      <td>1.000000</td>\n      <td>-0.188733</td>\n      <td>-0.201657</td>\n      <td>0.133009</td>\n      <td>0.061961</td>\n      <td>0.217653</td>\n      <td>0.006022</td>\n      <td>0.034733</td>\n      <td>0.149041</td>\n      <td>-0.049100</td>\n      <td>0.142599</td>\n      <td>-0.162739</td>\n    </tr>\n    <tr>\n      <th>medu</th>\n      <td>-0.188733</td>\n      <td>1.000000</td>\n      <td>0.612100</td>\n      <td>-0.131290</td>\n      <td>0.110552</td>\n      <td>-0.258629</td>\n      <td>0.034582</td>\n      <td>0.061799</td>\n      <td>0.074047</td>\n      <td>-0.028179</td>\n      <td>0.063291</td>\n      <td>0.220293</td>\n    </tr>\n    <tr>\n      <th>fedu</th>\n      <td>-0.201657</td>\n      <td>0.612100</td>\n      <td>1.000000</td>\n      <td>-0.061995</td>\n      <td>0.091622</td>\n      <td>-0.282201</td>\n      <td>0.013886</td>\n      <td>-0.023456</td>\n      <td>0.034547</td>\n      <td>0.019148</td>\n      <td>-0.016909</td>\n      <td>0.147009</td>\n    </tr>\n    <tr>\n      <th>traveltime</th>\n      <td>0.133009</td>\n      <td>-0.131290</td>\n      <td>-0.061995</td>\n      <td>1.000000</td>\n      <td>-0.110839</td>\n      <td>0.008542</td>\n      <td>-0.003957</td>\n      <td>-0.034433</td>\n      <td>-0.019065</td>\n      <td>-0.054425</td>\n      <td>-0.049299</td>\n      <td>-0.049260</td>\n    </tr>\n    <tr>\n      <th>studytime</th>\n      <td>0.061961</td>\n      <td>0.110552</td>\n      <td>0.091622</td>\n      <td>-0.110839</td>\n      <td>1.000000</td>\n      <td>-0.117187</td>\n      <td>0.097983</td>\n      <td>-0.083580</td>\n      <td>-0.002917</td>\n      <td>-0.043550</td>\n      <td>-0.064741</td>\n      <td>0.118865</td>\n    </tr>\n    <tr>\n      <th>failures</th>\n      <td>0.217653</td>\n      <td>-0.258629</td>\n      <td>-0.282201</td>\n      <td>0.008542</td>\n      <td>-0.117187</td>\n      <td>1.000000</td>\n      <td>-0.026065</td>\n      <td>0.077845</td>\n      <td>0.063319</td>\n      <td>0.097455</td>\n      <td>0.076008</td>\n      <td>-0.348435</td>\n    </tr>\n    <tr>\n      <th>famrel</th>\n      <td>0.006022</td>\n      <td>0.034582</td>\n      <td>0.013886</td>\n      <td>-0.003957</td>\n      <td>0.097983</td>\n      <td>-0.026065</td>\n      <td>1.000000</td>\n      <td>0.162783</td>\n      <td>0.051837</td>\n      <td>0.060783</td>\n      <td>-0.087544</td>\n      <td>0.048571</td>\n    </tr>\n    <tr>\n      <th>freetime</th>\n      <td>0.034733</td>\n      <td>0.061799</td>\n      <td>-0.023456</td>\n      <td>-0.034433</td>\n      <td>-0.083580</td>\n      <td>0.077845</td>\n      <td>0.162783</td>\n      <td>1.000000</td>\n      <td>0.231941</td>\n      <td>0.034639</td>\n      <td>0.098488</td>\n      <td>0.066883</td>\n    </tr>\n    <tr>\n      <th>goout</th>\n      <td>0.149041</td>\n      <td>0.074047</td>\n      <td>0.034547</td>\n      <td>-0.019065</td>\n      <td>-0.002917</td>\n      <td>0.063319</td>\n      <td>0.051837</td>\n      <td>0.231941</td>\n      <td>1.000000</td>\n      <td>-0.011788</td>\n      <td>0.109842</td>\n      <td>-0.114917</td>\n    </tr>\n    <tr>\n      <th>health</th>\n      <td>-0.049100</td>\n      <td>-0.028179</td>\n      <td>0.019148</td>\n      <td>-0.054425</td>\n      <td>-0.043550</td>\n      <td>0.097455</td>\n      <td>0.060783</td>\n      <td>0.034639</td>\n      <td>-0.011788</td>\n      <td>1.000000</td>\n      <td>0.002491</td>\n      <td>-0.065852</td>\n    </tr>\n    <tr>\n      <th>absences</th>\n      <td>0.142599</td>\n      <td>0.063291</td>\n      <td>-0.016909</td>\n      <td>-0.049299</td>\n      <td>-0.064741</td>\n      <td>0.076008</td>\n      <td>-0.087544</td>\n      <td>0.098488</td>\n      <td>0.109842</td>\n      <td>0.002491</td>\n      <td>1.000000</td>\n      <td>0.076230</td>\n    </tr>\n    <tr>\n      <th>score</th>\n      <td>-0.162739</td>\n      <td>0.220293</td>\n      <td>0.147009</td>\n      <td>-0.049260</td>\n      <td>0.118865</td>\n      <td>-0.348435</td>\n      <td>0.048571</td>\n      <td>0.066883</td>\n      <td>-0.114917</td>\n      <td>-0.065852</td>\n      <td>0.076230</td>\n      <td>1.000000</td>\n    </tr>\n  </tbody>\n</table>\n</div>"
     },
     "execution_count": 576,
     "metadata": {},
     "output_type": "execute_result"
    }
   ],
   "source": [
    "stud.corr()"
   ],
   "metadata": {
    "collapsed": false,
    "pycharm": {
     "name": "#%%\n"
    }
   }
  },
  {
   "cell_type": "code",
   "execution_count": 577,
   "outputs": [
    {
     "data": {
      "text/plain": "age          -0.162739\nmedu          0.220293\nfedu          0.147009\ntraveltime   -0.049260\nstudytime     0.118865\nfailures     -0.348435\nfamrel        0.048571\nfreetime      0.066883\ngoout        -0.114917\nhealth       -0.065852\nabsences      0.076230\nscore         1.000000\nName: score, dtype: float64"
     },
     "execution_count": 577,
     "metadata": {},
     "output_type": "execute_result"
    }
   ],
   "source": [
    "stud.corr()['score']"
   ],
   "metadata": {
    "collapsed": false,
    "pycharm": {
     "name": "#%%\n"
    }
   }
  },
  {
   "cell_type": "markdown",
   "source": [
    "На основе матрицы кореляций можем сделать такие выводы:\n",
    "\n",
    "* чем больше возразт (age) тем хуже результаты\n",
    "* чем лучще образование у отца и матери (medu, fedu), тем лучше результаты.\n",
    "так же можно приметить что medu и fedu сильно связанны между собой и в будущем можно смотреть только на один параметр.\n",
    "* traveltime имеет слабое влияние на результат\n",
    "* studytime положительно влияет на результат\n",
    "* количество внеучебных неудач негативно влияет на результат\n",
    "* famrel влияет незначительно на результаты\n",
    "* freetime влияет незначительно на результаты\n",
    "* goout влияет негативно на результаты\n",
    "* health влияет незначительно негативно на результаты\n",
    "* кол-во пропущенных занятий слабо влияет на результат"
   ],
   "metadata": {
    "collapsed": false,
    "pycharm": {
     "name": "#%% md\n"
    }
   }
  },
  {
   "cell_type": "markdown",
   "source": [
    "## Анализ номинативных переменных\n"
   ],
   "metadata": {
    "collapsed": false,
    "pycharm": {
     "name": "#%% md\n"
    }
   }
  },
  {
   "cell_type": "code",
   "execution_count": 574,
   "outputs": [
    {
     "data": {
      "text/plain": "<Figure size 1008x288 with 1 Axes>",
      "image/png": "[encoded data removed]"
     },
     "metadata": {
      "needs_background": "light"
     },
     "output_type": "display_data"
    },
    {
     "data": {
      "text/plain": "<Figure size 1008x288 with 1 Axes>",
      "image/png": "[encoded data removed]"
     },
     "metadata": {
      "needs_background": "light"
     },
     "output_type": "display_data"
    },
    {
     "data": {
      "text/plain": "<Figure size 1008x288 with 1 Axes>",
      "image/png": "[encoded data removed]"
     },
     "metadata": {
      "needs_background": "light"
     },
     "output_type": "display_data"
    },
    {
     "data": {
      "text/plain": "<Figure size 1008x288 with 1 Axes>",
      "image/png": "[encoded data removed]"
     },
     "metadata": {
      "needs_background": "light"
     },
     "output_type": "display_data"
    },
    {
     "data": {
      "text/plain": "<Figure size 1008x288 with 1 Axes>",
      "image/png": "[encoded data removed]"
     },
     "metadata": {
      "needs_background": "light"
     },
     "output_type": "display_data"
    },
    {
     "data": {
      "text/plain": "<Figure size 1008x288 with 1 Axes>",
      "image/png": "[encoded data removed]"
     },
     "metadata": {
      "needs_background": "light"
     },
     "output_type": "display_data"
    },
    {
     "data": {
      "text/plain": "<Figure size 1008x288 with 1 Axes>",
      "image/png": "[encoded data removed]"
     },
     "metadata": {
      "needs_background": "light"
     },
     "output_type": "display_data"
    },
    {
     "data": {
      "text/plain": "<Figure size 1008x288 with 1 Axes>",
      "image/png": "[encoded data removed]"
     },
     "metadata": {
      "needs_background": "light"
     },
     "output_type": "display_data"
    },
    {
     "data": {
      "text/plain": "<Figure size 1008x288 with 1 Axes>",
      "image/png": "[encoded data removed]"
     },
     "metadata": {
      "needs_background": "light"
     },
     "output_type": "display_data"
    },
    {
     "data": {
      "text/plain": "<Figure size 1008x288 with 1 Axes>",
      "image/png": "[encoded data removed]"
     },
     "metadata": {
      "needs_background": "light"
     },
     "output_type": "display_data"
    },
    {
     "data": {
      "text/plain": "<Figure size 1008x288 with 1 Axes>",
      "image/png": "[encoded data removed]"
     },
     "metadata": {
      "needs_background": "light"
     },
     "output_type": "display_data"
    },
    {
     "data": {
      "text/plain": "<Figure size 1008x288 with 1 Axes>",
      "image/png": "[encoded data removed]"
     },
     "metadata": {
      "needs_background": "light"
     },
     "output_type": "display_data"
    },
    {
     "data": {
      "text/plain": "<Figure size 1008x288 with 1 Axes>",
      "image/png": "[encoded data removed]"
     },
     "metadata": {
      "needs_background": "light"
     },
     "output_type": "display_data"
    },
    {
     "data": {
      "text/plain": "<Figure size 1008x288 with 1 Axes>",
      "image/png": "[encoded data removed]"
     },
     "metadata": {
      "needs_background": "light"
     },
     "output_type": "display_data"
    },
    {
     "data": {
      "text/plain": "<Figure size 1008x288 with 1 Axes>",
      "image/png": "[encoded data removed]"
     },
     "metadata": {
      "needs_background": "light"
     },
     "output_type": "display_data"
    },
    {
     "data": {
      "text/plain": "<Figure size 1008x288 with 1 Axes>",
      "image/png": "[encoded data removed]"
     },
     "metadata": {
      "needs_background": "light"
     },
     "output_type": "display_data"
    }
   ],
   "source": [
    "for col in ['school', 'sex', 'address', 'famsize', 'mjob', 'fjob', 'reason', 'guardian', 'schoolsup',\n",
    "            'famsup', 'paid', 'activities', 'nursery', 'higher', 'internet', 'romantic']:\n",
    "    get_boxplot(col)"
   ],
   "metadata": {
    "collapsed": false,
    "pycharm": {
     "name": "#%%\n"
    }
   }
  },
  {
   "cell_type": "code",
   "execution_count": 575,
   "outputs": [
    {
     "name": "stdout",
     "output_type": "stream",
     "text": [
      "Найдены статистически значимые различия для колонки sex\n",
      "Найдены статистически значимые различия для колонки address\n",
      "Найдены статистически значимые различия для колонки paid\n",
      "Найдены статистически значимые различия для колонки higher\n",
      "Найдены статистически значимые различия для колонки romantic\n"
     ]
    }
   ],
   "source": [
    "for col in ['school', 'sex', 'address', 'famsize', 'mjob', 'fjob', 'reason', 'guardian', 'schoolsup',\n",
    "            'famsup', 'paid', 'activities', 'nursery', 'higher', 'internet', 'romantic']:\n",
    "    get_stat_dif(col)\n"
   ],
   "metadata": {
    "collapsed": false,
    "pycharm": {
     "name": "#%%\n"
    }
   }
  },
  {
   "cell_type": "markdown",
   "source": [
    "## Выводы\n",
    "\n",
    "* В данных достаточно мало пустых значений\n",
    "* В датасете присутствуют выбросы в колонках traveltime, studytime, failures, famrel, absences, но не все из\n",
    "них были исключенны\n",
    "* Образование родителей имеет большое влияние на результат детей,\n",
    "большее время потраченное на учебу так же дает положительный результат\n",
    "* Количество внеучебных неудач отрицательно влияет на результаты\n",
    "* Самые важные параметры, которые предлагается использовать в дальнейшем для построения модели, это\n",
    "medu или fedu, age, studytime, failures, goout, sex, address, paid, higher, romantic\n"
   ],
   "metadata": {
    "collapsed": false,
    "pycharm": {
     "name": "#%% md\n"
    }
   }
  }
 ],
 "metadata": {
  "kernelspec": {
   "display_name": "Python 3",
   "language": "python",
   "name": "python3"
  },
  "language_info": {
   "codemirror_mode": {
    "name": "ipython",
    "version": 2
   },
   "file_extension": ".py",
   "mimetype": "text/x-python",
   "name": "python",
   "nbconvert_exporter": "python",
   "pygments_lexer": "ipython2",
   "version": "2.7.6"
  }
 },
 "nbformat": 4,
 "nbformat_minor": 0
}